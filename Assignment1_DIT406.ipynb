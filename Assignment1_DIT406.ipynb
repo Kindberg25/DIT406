{
 "cells": [
  {
   "cell_type": "markdown",
   "metadata": {},
   "source": [
    "# Assignment 1, DIT406"
   ]
  },
  {
   "cell_type": "markdown",
   "metadata": {},
   "source": [
    "Time spent on this project\n",
    "\n",
    "Carl Kindberg: 12 hours"
   ]
  },
  {
   "cell_type": "code",
   "execution_count": 1,
   "metadata": {},
   "outputs": [],
   "source": [
    "# Used packages\n",
    "import numpy as np\n",
    "import matplotlib.pyplot as plt\n",
    "import pandas as pd\n",
    "import seaborn as sns\n",
    "import scipy.stats"
   ]
  },
  {
   "cell_type": "code",
   "execution_count": 2,
   "metadata": {},
   "outputs": [],
   "source": [
    "# Loading data\n",
    "gdp_data_cap = pd.read_csv(r'C:\\Users\\kindb\\Downloads\\data_dat405\\gdp-per-capita-in-us-dollar-world-bank.csv')\n",
    "gdp_data = pd.read_csv(r'C:\\Users\\kindb\\Downloads\\data_dat405\\gross-domestic-product.csv')\n",
    "life_data = pd.read_csv(r'C:\\Users\\kindb\\Downloads\\data_dat405\\life-expectancy.csv')"
   ]
  },
  {
   "cell_type": "code",
   "execution_count": 3,
   "metadata": {},
   "outputs": [],
   "source": [
    "# Filter out all data corresponding to 2019.\n",
    "\n",
    "gdp_cap_2019 = gdp_data_cap[gdp_data_cap['Year']==2019]\n",
    "gdp_2019 = gdp_data[gdp_data['Year']==2019]\n",
    "life_2019 = life_data[life_data['Year']==2019]\n"
   ]
  },
  {
   "cell_type": "code",
   "execution_count": 4,
   "metadata": {},
   "outputs": [
    {
     "data": {
      "text/html": [
       "<div>\n",
       "<style scoped>\n",
       "    .dataframe tbody tr th:only-of-type {\n",
       "        vertical-align: middle;\n",
       "    }\n",
       "\n",
       "    .dataframe tbody tr th {\n",
       "        vertical-align: top;\n",
       "    }\n",
       "\n",
       "    .dataframe thead th {\n",
       "        text-align: right;\n",
       "    }\n",
       "</style>\n",
       "<table border=\"1\" class=\"dataframe\">\n",
       "  <thead>\n",
       "    <tr style=\"text-align: right;\">\n",
       "      <th></th>\n",
       "      <th>Code</th>\n",
       "      <th>GDP per capita (constant 2010 US$)</th>\n",
       "    </tr>\n",
       "  </thead>\n",
       "  <tbody>\n",
       "    <tr>\n",
       "      <th>17</th>\n",
       "      <td>AFG</td>\n",
       "      <td>573.287506</td>\n",
       "    </tr>\n",
       "    <tr>\n",
       "      <th>78</th>\n",
       "      <td>NaN</td>\n",
       "      <td>1598.376982</td>\n",
       "    </tr>\n",
       "    <tr>\n",
       "      <th>139</th>\n",
       "      <td>NaN</td>\n",
       "      <td>1789.467908</td>\n",
       "    </tr>\n",
       "    <tr>\n",
       "      <th>180</th>\n",
       "      <td>ALB</td>\n",
       "      <td>5207.305322</td>\n",
       "    </tr>\n",
       "    <tr>\n",
       "      <th>241</th>\n",
       "      <td>DZA</td>\n",
       "      <td>4701.279743</td>\n",
       "    </tr>\n",
       "    <tr>\n",
       "      <th>...</th>\n",
       "      <td>...</td>\n",
       "      <td>...</td>\n",
       "    </tr>\n",
       "    <tr>\n",
       "      <th>11846</th>\n",
       "      <td>VUT</td>\n",
       "      <td>2865.787495</td>\n",
       "    </tr>\n",
       "    <tr>\n",
       "      <th>11938</th>\n",
       "      <td>VNM</td>\n",
       "      <td>2082.243651</td>\n",
       "    </tr>\n",
       "    <tr>\n",
       "      <th>11999</th>\n",
       "      <td>OWID_WRL</td>\n",
       "      <td>11072.854662</td>\n",
       "    </tr>\n",
       "    <tr>\n",
       "      <th>12089</th>\n",
       "      <td>ZMB</td>\n",
       "      <td>1653.829030</td>\n",
       "    </tr>\n",
       "    <tr>\n",
       "      <th>12150</th>\n",
       "      <td>ZWE</td>\n",
       "      <td>1168.008072</td>\n",
       "    </tr>\n",
       "  </tbody>\n",
       "</table>\n",
       "<p>242 rows × 2 columns</p>\n",
       "</div>"
      ],
      "text/plain": [
       "           Code  GDP per capita (constant 2010 US$)\n",
       "17          AFG                          573.287506\n",
       "78          NaN                         1598.376982\n",
       "139         NaN                         1789.467908\n",
       "180         ALB                         5207.305322\n",
       "241         DZA                         4701.279743\n",
       "...         ...                                 ...\n",
       "11846       VUT                         2865.787495\n",
       "11938       VNM                         2082.243651\n",
       "11999  OWID_WRL                        11072.854662\n",
       "12089       ZMB                         1653.829030\n",
       "12150       ZWE                         1168.008072\n",
       "\n",
       "[242 rows x 2 columns]"
      ]
     },
     "execution_count": 4,
     "metadata": {},
     "output_type": "execute_result"
    }
   ],
   "source": [
    "gdp_cap_2019=gdp_cap_2019.drop(columns = ['Entity', 'Year'])\n",
    "gdp_cap_2019"
   ]
  },
  {
   "cell_type": "code",
   "execution_count": 5,
   "metadata": {},
   "outputs": [
    {
     "data": {
      "text/html": [
       "<div>\n",
       "<style scoped>\n",
       "    .dataframe tbody tr th:only-of-type {\n",
       "        vertical-align: middle;\n",
       "    }\n",
       "\n",
       "    .dataframe tbody tr th {\n",
       "        vertical-align: top;\n",
       "    }\n",
       "\n",
       "    .dataframe thead th {\n",
       "        text-align: right;\n",
       "    }\n",
       "</style>\n",
       "<table border=\"1\" class=\"dataframe\">\n",
       "  <thead>\n",
       "    <tr style=\"text-align: right;\">\n",
       "      <th></th>\n",
       "      <th>Code</th>\n",
       "      <th>GDP (constant 2010 US$)</th>\n",
       "    </tr>\n",
       "  </thead>\n",
       "  <tbody>\n",
       "    <tr>\n",
       "      <th>17</th>\n",
       "      <td>AFG</td>\n",
       "      <td>2.180886e+10</td>\n",
       "    </tr>\n",
       "    <tr>\n",
       "      <th>78</th>\n",
       "      <td>NaN</td>\n",
       "      <td>1.055003e+12</td>\n",
       "    </tr>\n",
       "    <tr>\n",
       "      <th>139</th>\n",
       "      <td>NaN</td>\n",
       "      <td>7.997340e+11</td>\n",
       "    </tr>\n",
       "    <tr>\n",
       "      <th>180</th>\n",
       "      <td>ALB</td>\n",
       "      <td>1.486264e+10</td>\n",
       "    </tr>\n",
       "    <tr>\n",
       "      <th>241</th>\n",
       "      <td>DZA</td>\n",
       "      <td>2.024045e+11</td>\n",
       "    </tr>\n",
       "    <tr>\n",
       "      <th>...</th>\n",
       "      <td>...</td>\n",
       "      <td>...</td>\n",
       "    </tr>\n",
       "    <tr>\n",
       "      <th>11849</th>\n",
       "      <td>VUT</td>\n",
       "      <td>8.593981e+08</td>\n",
       "    </tr>\n",
       "    <tr>\n",
       "      <th>11941</th>\n",
       "      <td>VNM</td>\n",
       "      <td>2.008576e+11</td>\n",
       "    </tr>\n",
       "    <tr>\n",
       "      <th>12002</th>\n",
       "      <td>OWID_WRL</td>\n",
       "      <td>8.496584e+13</td>\n",
       "    </tr>\n",
       "    <tr>\n",
       "      <th>12092</th>\n",
       "      <td>ZMB</td>\n",
       "      <td>2.953910e+10</td>\n",
       "    </tr>\n",
       "    <tr>\n",
       "      <th>12153</th>\n",
       "      <td>ZWE</td>\n",
       "      <td>1.710603e+10</td>\n",
       "    </tr>\n",
       "  </tbody>\n",
       "</table>\n",
       "<p>242 rows × 2 columns</p>\n",
       "</div>"
      ],
      "text/plain": [
       "           Code  GDP (constant 2010 US$)\n",
       "17          AFG             2.180886e+10\n",
       "78          NaN             1.055003e+12\n",
       "139         NaN             7.997340e+11\n",
       "180         ALB             1.486264e+10\n",
       "241         DZA             2.024045e+11\n",
       "...         ...                      ...\n",
       "11849       VUT             8.593981e+08\n",
       "11941       VNM             2.008576e+11\n",
       "12002  OWID_WRL             8.496584e+13\n",
       "12092       ZMB             2.953910e+10\n",
       "12153       ZWE             1.710603e+10\n",
       "\n",
       "[242 rows x 2 columns]"
      ]
     },
     "execution_count": 5,
     "metadata": {},
     "output_type": "execute_result"
    }
   ],
   "source": [
    "gdp_2019 = gdp_2019.drop(columns = ['Entity', 'Year'])\n",
    "gdp_2019"
   ]
  },
  {
   "cell_type": "code",
   "execution_count": 6,
   "metadata": {},
   "outputs": [
    {
     "data": {
      "text/html": [
       "<div>\n",
       "<style scoped>\n",
       "    .dataframe tbody tr th:only-of-type {\n",
       "        vertical-align: middle;\n",
       "    }\n",
       "\n",
       "    .dataframe tbody tr th {\n",
       "        vertical-align: top;\n",
       "    }\n",
       "\n",
       "    .dataframe thead th {\n",
       "        text-align: right;\n",
       "    }\n",
       "</style>\n",
       "<table border=\"1\" class=\"dataframe\">\n",
       "  <thead>\n",
       "    <tr style=\"text-align: right;\">\n",
       "      <th></th>\n",
       "      <th>Code</th>\n",
       "      <th>Life expectancy</th>\n",
       "    </tr>\n",
       "  </thead>\n",
       "  <tbody>\n",
       "    <tr>\n",
       "      <th>69</th>\n",
       "      <td>AFG</td>\n",
       "      <td>64.833</td>\n",
       "    </tr>\n",
       "    <tr>\n",
       "      <th>141</th>\n",
       "      <td>NaN</td>\n",
       "      <td>63.170</td>\n",
       "    </tr>\n",
       "    <tr>\n",
       "      <th>211</th>\n",
       "      <td>ALB</td>\n",
       "      <td>78.573</td>\n",
       "    </tr>\n",
       "    <tr>\n",
       "      <th>284</th>\n",
       "      <td>DZA</td>\n",
       "      <td>76.880</td>\n",
       "    </tr>\n",
       "    <tr>\n",
       "      <th>354</th>\n",
       "      <td>ASM</td>\n",
       "      <td>73.745</td>\n",
       "    </tr>\n",
       "    <tr>\n",
       "      <th>...</th>\n",
       "      <td>...</td>\n",
       "      <td>...</td>\n",
       "    </tr>\n",
       "    <tr>\n",
       "      <th>18740</th>\n",
       "      <td>ESH</td>\n",
       "      <td>70.263</td>\n",
       "    </tr>\n",
       "    <tr>\n",
       "      <th>18817</th>\n",
       "      <td>OWID_WRL</td>\n",
       "      <td>72.584</td>\n",
       "    </tr>\n",
       "    <tr>\n",
       "      <th>18887</th>\n",
       "      <td>YEM</td>\n",
       "      <td>66.125</td>\n",
       "    </tr>\n",
       "    <tr>\n",
       "      <th>18957</th>\n",
       "      <td>ZMB</td>\n",
       "      <td>63.886</td>\n",
       "    </tr>\n",
       "    <tr>\n",
       "      <th>19027</th>\n",
       "      <td>ZWE</td>\n",
       "      <td>61.490</td>\n",
       "    </tr>\n",
       "  </tbody>\n",
       "</table>\n",
       "<p>243 rows × 2 columns</p>\n",
       "</div>"
      ],
      "text/plain": [
       "           Code  Life expectancy\n",
       "69          AFG           64.833\n",
       "141         NaN           63.170\n",
       "211         ALB           78.573\n",
       "284         DZA           76.880\n",
       "354         ASM           73.745\n",
       "...         ...              ...\n",
       "18740       ESH           70.263\n",
       "18817  OWID_WRL           72.584\n",
       "18887       YEM           66.125\n",
       "18957       ZMB           63.886\n",
       "19027       ZWE           61.490\n",
       "\n",
       "[243 rows x 2 columns]"
      ]
     },
     "execution_count": 6,
     "metadata": {},
     "output_type": "execute_result"
    }
   ],
   "source": [
    "life_2019 = life_2019.drop(columns = ['Entity', 'Year'])\n",
    "life_2019"
   ]
  },
  {
   "cell_type": "code",
   "execution_count": 7,
   "metadata": {},
   "outputs": [
    {
     "name": "stdout",
     "output_type": "stream",
     "text": [
      "Total missing gdp per capita values 2019: 0\n",
      "Total missing gdp values 2019: 0\n",
      "Total missing life expectancy values 2019: 0\n"
     ]
    }
   ],
   "source": [
    "print(\"Total missing gdp per capita values 2019:\", gdp_cap_2019.iloc[:,1].isnull().sum())\n",
    "print(\"Total missing gdp values 2019:\", gdp_cap_2019.iloc[:,1].isnull().sum())\n",
    "print(\"Total missing life expectancy values 2019:\", life_2019.iloc[:,1].isnull().sum())\n"
   ]
  },
  {
   "cell_type": "code",
   "execution_count": 8,
   "metadata": {},
   "outputs": [],
   "source": [
    "merged_2019 = pd.merge(gdp_cap_2019, gdp_2019, how='inner', on='Code').dropna().sort_values('GDP per capita (constant 2010 US$)');\n",
    "\n",
    "Data = pd.merge(merged_2019, life_2019, how='inner', on='Code').dropna().sort_values('Life expectancy');"
   ]
  },
  {
   "cell_type": "code",
   "execution_count": 9,
   "metadata": {},
   "outputs": [
    {
     "data": {
      "text/html": [
       "<div>\n",
       "<style scoped>\n",
       "    .dataframe tbody tr th:only-of-type {\n",
       "        vertical-align: middle;\n",
       "    }\n",
       "\n",
       "    .dataframe tbody tr th {\n",
       "        vertical-align: top;\n",
       "    }\n",
       "\n",
       "    .dataframe thead th {\n",
       "        text-align: right;\n",
       "    }\n",
       "</style>\n",
       "<table border=\"1\" class=\"dataframe\">\n",
       "  <thead>\n",
       "    <tr style=\"text-align: right;\">\n",
       "      <th></th>\n",
       "      <th>Code</th>\n",
       "      <th>GDP per capita (constant 2010 US$)</th>\n",
       "      <th>GDP (constant 2010 US$)</th>\n",
       "      <th>Life expectancy</th>\n",
       "    </tr>\n",
       "  </thead>\n",
       "  <tbody>\n",
       "    <tr>\n",
       "      <th>1</th>\n",
       "      <td>CAF</td>\n",
       "      <td>384.256968</td>\n",
       "      <td>1.823368e+09</td>\n",
       "      <td>53.283</td>\n",
       "    </tr>\n",
       "    <tr>\n",
       "      <th>14</th>\n",
       "      <td>TCD</td>\n",
       "      <td>813.719589</td>\n",
       "      <td>1.297629e+10</td>\n",
       "      <td>54.239</td>\n",
       "    </tr>\n",
       "    <tr>\n",
       "      <th>27</th>\n",
       "      <td>LSO</td>\n",
       "      <td>1233.039963</td>\n",
       "      <td>2.620539e+09</td>\n",
       "      <td>54.331</td>\n",
       "    </tr>\n",
       "    <tr>\n",
       "      <th>51</th>\n",
       "      <td>NGA</td>\n",
       "      <td>2374.369383</td>\n",
       "      <td>4.771618e+11</td>\n",
       "      <td>54.687</td>\n",
       "    </tr>\n",
       "    <tr>\n",
       "      <th>3</th>\n",
       "      <td>SLE</td>\n",
       "      <td>488.885985</td>\n",
       "      <td>3.819767e+09</td>\n",
       "      <td>54.696</td>\n",
       "    </tr>\n",
       "    <tr>\n",
       "      <th>...</th>\n",
       "      <td>...</td>\n",
       "      <td>...</td>\n",
       "      <td>...</td>\n",
       "      <td>...</td>\n",
       "    </tr>\n",
       "    <tr>\n",
       "      <th>181</th>\n",
       "      <td>MAC</td>\n",
       "      <td>56506.263308</td>\n",
       "      <td>3.618921e+10</td>\n",
       "      <td>84.244</td>\n",
       "    </tr>\n",
       "    <tr>\n",
       "      <th>173</th>\n",
       "      <td>JPN</td>\n",
       "      <td>49000.256040</td>\n",
       "      <td>6.187014e+12</td>\n",
       "      <td>84.629</td>\n",
       "    </tr>\n",
       "    <tr>\n",
       "      <th>165</th>\n",
       "      <td>HKG</td>\n",
       "      <td>37762.739863</td>\n",
       "      <td>2.835000e+11</td>\n",
       "      <td>84.857</td>\n",
       "    </tr>\n",
       "    <tr>\n",
       "      <th>176</th>\n",
       "      <td>SMR</td>\n",
       "      <td>50894.292233</td>\n",
       "      <td>1.723484e+09</td>\n",
       "      <td>84.972</td>\n",
       "    </tr>\n",
       "    <tr>\n",
       "      <th>193</th>\n",
       "      <td>MCO</td>\n",
       "      <td>209224.505501</td>\n",
       "      <td>8.152851e+09</td>\n",
       "      <td>86.751</td>\n",
       "    </tr>\n",
       "  </tbody>\n",
       "</table>\n",
       "<p>194 rows × 4 columns</p>\n",
       "</div>"
      ],
      "text/plain": [
       "    Code  GDP per capita (constant 2010 US$)  GDP (constant 2010 US$)  \\\n",
       "1    CAF                          384.256968             1.823368e+09   \n",
       "14   TCD                          813.719589             1.297629e+10   \n",
       "27   LSO                         1233.039963             2.620539e+09   \n",
       "51   NGA                         2374.369383             4.771618e+11   \n",
       "3    SLE                          488.885985             3.819767e+09   \n",
       "..   ...                                 ...                      ...   \n",
       "181  MAC                        56506.263308             3.618921e+10   \n",
       "173  JPN                        49000.256040             6.187014e+12   \n",
       "165  HKG                        37762.739863             2.835000e+11   \n",
       "176  SMR                        50894.292233             1.723484e+09   \n",
       "193  MCO                       209224.505501             8.152851e+09   \n",
       "\n",
       "     Life expectancy  \n",
       "1             53.283  \n",
       "14            54.239  \n",
       "27            54.331  \n",
       "51            54.687  \n",
       "3             54.696  \n",
       "..               ...  \n",
       "181           84.244  \n",
       "173           84.629  \n",
       "165           84.857  \n",
       "176           84.972  \n",
       "193           86.751  \n",
       "\n",
       "[194 rows x 4 columns]"
      ]
     },
     "execution_count": 9,
     "metadata": {},
     "output_type": "execute_result"
    }
   ],
   "source": [
    "Data"
   ]
  },
  {
   "cell_type": "code",
   "execution_count": 10,
   "metadata": {},
   "outputs": [],
   "source": [
    "# Define variables x1, x2 x3 for easier access to GDP per capita, GDP and Life expectancy. \n",
    "x1 = Data['GDP per capita (constant 2010 US$)']\n",
    "x2 = Data['GDP (constant 2010 US$)']\n",
    "x3 = Data['Life expectancy']"
   ]
  },
  {
   "cell_type": "markdown",
   "metadata": {},
   "source": [
    "## 1. a)\n",
    "#### Write a Python program that draws a scatter plot of GDP per capita vs life expectancy. State any assumptions and motivate decisions that you make when selecting data to be plotted, and in combining data. [1p]"
   ]
  },
  {
   "cell_type": "code",
   "execution_count": 11,
   "metadata": {},
   "outputs": [
    {
     "data": {
      "image/png": "[encoded data removed]",
      "text/plain": [
       "<Figure size 720x360 with 1 Axes>"
      ]
     },
     "metadata": {
      "needs_background": "light"
     },
     "output_type": "display_data"
    }
   ],
   "source": [
    "plt.scatter(x1, x3,color = 'b')\n",
    "plt.gcf().set_size_inches(10, 5)\n",
    "plt.title('GDP per capita vs Life expectancy')\n",
    "plt.xlabel('GDP per capita (constant 2010 US$)')\n",
    "plt.ylabel('Life expectancy')\n",
    "plt.show()\n"
   ]
  },
  {
   "cell_type": "markdown",
   "metadata": {},
   "source": [
    "First of all I have choosen to only investigate 2019, one could have choosen another year to compare the results. In that way we could have seen which countrys that have improved (or hopefully not worsen) Life expectancy and GDP per capita.\n",
    "\n",
    "The year 2019 was choose since I couldn't find any data on Life expectations from 2020 i.e i didnt want to compare GDP per capita 2020 vs Life expectancy 2019 so so I choose to only focus on 2019.\n",
    "\n",
    "Note from the scatter plot above the results doesnt seem to be linear. Maybe one could use a transformation to get nicer results. \n",
    "Note also that there is a outlier in the right upper corner, one might experiment with removing this observation as it might be a influential point.\n",
    "\n",
    " "
   ]
  },
  {
   "cell_type": "markdown",
   "metadata": {},
   "source": [
    "## 1. b) \n",
    "#### Consider whether the results obtained seem reasonable and discuss what might be the explanation for the results you obtained. [1p]"
   ]
  },
  {
   "cell_type": "code",
   "execution_count": 12,
   "metadata": {},
   "outputs": [
    {
     "name": "stdout",
     "output_type": "stream",
     "text": [
      "Spearmans correlation coefficient = 0.8554173451523056\n"
     ]
    }
   ],
   "source": [
    "print(\"Spearmans correlation coefficient =\", scipy.stats.spearmanr(x1, x3)[0])"
   ]
  },
  {
   "cell_type": "markdown",
   "metadata": {},
   "source": [
    "By inspecting the scatter plot above we can see that high GDP per capita indicates high Life expectancy. This seems reasonable as GDP per capita is a measure of a countrys wealth.\n",
    "\n",
    "Spearmans correlation indicates a highliy positive correlation GDP per capita and Life expectancy (about 85% correlation between the variables). \n",
    "\n",
    "#### What does this mean?\n",
    "This means if you were born in a country with low GDP per capita you have lower life expectancy respectively if you were born in a country with high GDP per capita your life expectancy will be higher.\n",
    " \n",
    "Countrys with high wealth (GDP per capita) means in genral a lower rate of poverty, easier access to necessities like clean water, food, healthcare and medicines etc. \n",
    "\n",
    "Starvation only exists in poverty and there is probably next to zero starvation in a wealthy contry. Since starvation is a problem for adults as well as children, this reduces the life expectancy in the poor countries."
   ]
  },
  {
   "cell_type": "markdown",
   "metadata": {},
   "source": [
    "## 1. c) \n",
    "#### Did you do any data cleaning (e.g., by removing entries that you think are not useful) for the task of drawing scatter plot(s) and the task of answering the questions d, e, f, and g? If so, explain what kind of entries that you chose to remove and why. [0.5p]"
   ]
  },
  {
   "cell_type": "markdown",
   "metadata": {},
   "source": [
    "\n",
    "\n",
    "\n",
    "#### Data cleaning:\n",
    "1. Only countrys that have data for both GDP per capita and Life expectations is included.\n",
    "2. Africa Eastern and Southern + Africa Western and Central is excluded this is a continent and not a country.\n",
    "3. Removed all Countries that have missing values for either GDP per capita or Life expectancy.\n",
    "4. Dropped the column Year as we only use data from 2019.\n",
    "5. Dropped the column Entity as the column Code gives the same information."
   ]
  },
  {
   "cell_type": "markdown",
   "metadata": {},
   "source": [
    "## 1. d)\n",
    "Which countries have a life expectancy higher than one standard deviation \n",
    "above the mean? [0.5p]"
   ]
  },
  {
   "cell_type": "code",
   "execution_count": 13,
   "metadata": {},
   "outputs": [],
   "source": [
    "# First of all we can define a zscore function.\n",
    "\n",
    "def zscore(i):\n",
    "    return ((i-np.mean(i))/np.std(i))"
   ]
  },
  {
   "cell_type": "code",
   "execution_count": 14,
   "metadata": {},
   "outputs": [
    {
     "name": "stdout",
     "output_type": "stream",
     "text": [
      "Mean for Life expectancy: 73.15636082474228\n",
      "Standard deviation for Life expectancy: 7.48032441573565\n"
     ]
    }
   ],
   "source": [
    "# let's calculate mean and std for life expectancy\n",
    "print(\"Mean for Life expectancy:\", np.mean(x3))\n",
    "print(\"Standard deviation for Life expectancy:\", np.std(x3))"
   ]
  },
  {
   "cell_type": "code",
   "execution_count": 15,
   "metadata": {},
   "outputs": [
    {
     "name": "stdout",
     "output_type": "stream",
     "text": [
      "1     -2.656751\n",
      "14    -2.528949\n",
      "27    -2.516650\n",
      "51    -2.469059\n",
      "3     -2.467856\n",
      "         ...   \n",
      "181    1.482240\n",
      "173    1.533709\n",
      "165    1.564189\n",
      "176    1.579562\n",
      "193    1.817386\n",
      "Name: Life expectancy, Length: 194, dtype: float64\n"
     ]
    }
   ],
   "source": [
    "print(zscore(x3))"
   ]
  },
  {
   "cell_type": "code",
   "execution_count": 16,
   "metadata": {},
   "outputs": [],
   "source": [
    "filter_std_1_life = (zscore(x3)) > 1"
   ]
  },
  {
   "cell_type": "code",
   "execution_count": 17,
   "metadata": {},
   "outputs": [],
   "source": [
    "# Add a row where true corresponds to greter than 1 std above the mean and false corresponds to less than one std from the mean.\n",
    "Data['Std filter (1)']= filter_std_1_life"
   ]
  },
  {
   "cell_type": "code",
   "execution_count": 18,
   "metadata": {},
   "outputs": [
    {
     "data": {
      "text/html": [
       "<div>\n",
       "<style scoped>\n",
       "    .dataframe tbody tr th:only-of-type {\n",
       "        vertical-align: middle;\n",
       "    }\n",
       "\n",
       "    .dataframe tbody tr th {\n",
       "        vertical-align: top;\n",
       "    }\n",
       "\n",
       "    .dataframe thead th {\n",
       "        text-align: right;\n",
       "    }\n",
       "</style>\n",
       "<table border=\"1\" class=\"dataframe\">\n",
       "  <thead>\n",
       "    <tr style=\"text-align: right;\">\n",
       "      <th></th>\n",
       "      <th>Code</th>\n",
       "      <th>GDP per capita (constant 2010 US$)</th>\n",
       "      <th>GDP (constant 2010 US$)</th>\n",
       "      <th>Life expectancy</th>\n",
       "      <th>Std filter (1)</th>\n",
       "    </tr>\n",
       "  </thead>\n",
       "  <tbody>\n",
       "    <tr>\n",
       "      <th>1</th>\n",
       "      <td>CAF</td>\n",
       "      <td>384.256968</td>\n",
       "      <td>1.823368e+09</td>\n",
       "      <td>53.283</td>\n",
       "      <td>False</td>\n",
       "    </tr>\n",
       "    <tr>\n",
       "      <th>14</th>\n",
       "      <td>TCD</td>\n",
       "      <td>813.719589</td>\n",
       "      <td>1.297629e+10</td>\n",
       "      <td>54.239</td>\n",
       "      <td>False</td>\n",
       "    </tr>\n",
       "    <tr>\n",
       "      <th>27</th>\n",
       "      <td>LSO</td>\n",
       "      <td>1233.039963</td>\n",
       "      <td>2.620539e+09</td>\n",
       "      <td>54.331</td>\n",
       "      <td>False</td>\n",
       "    </tr>\n",
       "    <tr>\n",
       "      <th>51</th>\n",
       "      <td>NGA</td>\n",
       "      <td>2374.369383</td>\n",
       "      <td>4.771618e+11</td>\n",
       "      <td>54.687</td>\n",
       "      <td>False</td>\n",
       "    </tr>\n",
       "    <tr>\n",
       "      <th>3</th>\n",
       "      <td>SLE</td>\n",
       "      <td>488.885985</td>\n",
       "      <td>3.819767e+09</td>\n",
       "      <td>54.696</td>\n",
       "      <td>False</td>\n",
       "    </tr>\n",
       "    <tr>\n",
       "      <th>...</th>\n",
       "      <td>...</td>\n",
       "      <td>...</td>\n",
       "      <td>...</td>\n",
       "      <td>...</td>\n",
       "      <td>...</td>\n",
       "    </tr>\n",
       "    <tr>\n",
       "      <th>181</th>\n",
       "      <td>MAC</td>\n",
       "      <td>56506.263308</td>\n",
       "      <td>3.618921e+10</td>\n",
       "      <td>84.244</td>\n",
       "      <td>True</td>\n",
       "    </tr>\n",
       "    <tr>\n",
       "      <th>173</th>\n",
       "      <td>JPN</td>\n",
       "      <td>49000.256040</td>\n",
       "      <td>6.187014e+12</td>\n",
       "      <td>84.629</td>\n",
       "      <td>True</td>\n",
       "    </tr>\n",
       "    <tr>\n",
       "      <th>165</th>\n",
       "      <td>HKG</td>\n",
       "      <td>37762.739863</td>\n",
       "      <td>2.835000e+11</td>\n",
       "      <td>84.857</td>\n",
       "      <td>True</td>\n",
       "    </tr>\n",
       "    <tr>\n",
       "      <th>176</th>\n",
       "      <td>SMR</td>\n",
       "      <td>50894.292233</td>\n",
       "      <td>1.723484e+09</td>\n",
       "      <td>84.972</td>\n",
       "      <td>True</td>\n",
       "    </tr>\n",
       "    <tr>\n",
       "      <th>193</th>\n",
       "      <td>MCO</td>\n",
       "      <td>209224.505501</td>\n",
       "      <td>8.152851e+09</td>\n",
       "      <td>86.751</td>\n",
       "      <td>True</td>\n",
       "    </tr>\n",
       "  </tbody>\n",
       "</table>\n",
       "<p>194 rows × 5 columns</p>\n",
       "</div>"
      ],
      "text/plain": [
       "    Code  GDP per capita (constant 2010 US$)  GDP (constant 2010 US$)  \\\n",
       "1    CAF                          384.256968             1.823368e+09   \n",
       "14   TCD                          813.719589             1.297629e+10   \n",
       "27   LSO                         1233.039963             2.620539e+09   \n",
       "51   NGA                         2374.369383             4.771618e+11   \n",
       "3    SLE                          488.885985             3.819767e+09   \n",
       "..   ...                                 ...                      ...   \n",
       "181  MAC                        56506.263308             3.618921e+10   \n",
       "173  JPN                        49000.256040             6.187014e+12   \n",
       "165  HKG                        37762.739863             2.835000e+11   \n",
       "176  SMR                        50894.292233             1.723484e+09   \n",
       "193  MCO                       209224.505501             8.152851e+09   \n",
       "\n",
       "     Life expectancy  Std filter (1)  \n",
       "1             53.283           False  \n",
       "14            54.239           False  \n",
       "27            54.331           False  \n",
       "51            54.687           False  \n",
       "3             54.696           False  \n",
       "..               ...             ...  \n",
       "181           84.244            True  \n",
       "173           84.629            True  \n",
       "165           84.857            True  \n",
       "176           84.972            True  \n",
       "193           86.751            True  \n",
       "\n",
       "[194 rows x 5 columns]"
      ]
     },
     "execution_count": 18,
     "metadata": {},
     "output_type": "execute_result"
    }
   ],
   "source": [
    "Data"
   ]
  },
  {
   "cell_type": "code",
   "execution_count": 19,
   "metadata": {},
   "outputs": [
    {
     "data": {
      "text/html": [
       "<div>\n",
       "<style scoped>\n",
       "    .dataframe tbody tr th:only-of-type {\n",
       "        vertical-align: middle;\n",
       "    }\n",
       "\n",
       "    .dataframe tbody tr th {\n",
       "        vertical-align: top;\n",
       "    }\n",
       "\n",
       "    .dataframe thead th {\n",
       "        text-align: right;\n",
       "    }\n",
       "</style>\n",
       "<table border=\"1\" class=\"dataframe\">\n",
       "  <thead>\n",
       "    <tr style=\"text-align: right;\">\n",
       "      <th></th>\n",
       "      <th>Code</th>\n",
       "      <th>GDP per capita (constant 2010 US$)</th>\n",
       "      <th>GDP (constant 2010 US$)</th>\n",
       "      <th>Life expectancy</th>\n",
       "      <th>Std filter (1)</th>\n",
       "    </tr>\n",
       "  </thead>\n",
       "  <tbody>\n",
       "    <tr>\n",
       "      <th>186</th>\n",
       "      <td>DNK</td>\n",
       "      <td>65867.001720</td>\n",
       "      <td>3.829785e+11</td>\n",
       "      <td>80.898</td>\n",
       "      <td>True</td>\n",
       "    </tr>\n",
       "    <tr>\n",
       "      <th>160</th>\n",
       "      <td>CYP</td>\n",
       "      <td>32517.237276</td>\n",
       "      <td>2.867864e+10</td>\n",
       "      <td>80.982</td>\n",
       "      <td>True</td>\n",
       "    </tr>\n",
       "    <tr>\n",
       "      <th>168</th>\n",
       "      <td>GBR</td>\n",
       "      <td>43592.414518</td>\n",
       "      <td>2.913557e+12</td>\n",
       "      <td>81.321</td>\n",
       "      <td>True</td>\n",
       "    </tr>\n",
       "    <tr>\n",
       "      <th>153</th>\n",
       "      <td>SVN</td>\n",
       "      <td>27421.028712</td>\n",
       "      <td>5.726567e+10</td>\n",
       "      <td>81.324</td>\n",
       "      <td>True</td>\n",
       "    </tr>\n",
       "    <tr>\n",
       "      <th>171</th>\n",
       "      <td>DEU</td>\n",
       "      <td>47469.477084</td>\n",
       "      <td>3.944379e+12</td>\n",
       "      <td>81.326</td>\n",
       "      <td>True</td>\n",
       "    </tr>\n",
       "    <tr>\n",
       "      <th>175</th>\n",
       "      <td>AUT</td>\n",
       "      <td>50536.664146</td>\n",
       "      <td>4.487615e+11</td>\n",
       "      <td>81.544</td>\n",
       "      <td>True</td>\n",
       "    </tr>\n",
       "    <tr>\n",
       "      <th>172</th>\n",
       "      <td>BEL</td>\n",
       "      <td>47611.913704</td>\n",
       "      <td>5.470123e+11</td>\n",
       "      <td>81.628</td>\n",
       "      <td>True</td>\n",
       "    </tr>\n",
       "    <tr>\n",
       "      <th>174</th>\n",
       "      <td>FIN</td>\n",
       "      <td>49310.457064</td>\n",
       "      <td>2.722729e+11</td>\n",
       "      <td>81.908</td>\n",
       "      <td>True</td>\n",
       "    </tr>\n",
       "    <tr>\n",
       "      <th>152</th>\n",
       "      <td>PRT</td>\n",
       "      <td>24679.034094</td>\n",
       "      <td>2.538550e+11</td>\n",
       "      <td>82.049</td>\n",
       "      <td>True</td>\n",
       "    </tr>\n",
       "    <tr>\n",
       "      <th>150</th>\n",
       "      <td>GRC</td>\n",
       "      <td>23503.579804</td>\n",
       "      <td>2.519956e+11</td>\n",
       "      <td>82.239</td>\n",
       "      <td>True</td>\n",
       "    </tr>\n",
       "    <tr>\n",
       "      <th>192</th>\n",
       "      <td>LUX</td>\n",
       "      <td>111043.531695</td>\n",
       "      <td>6.884710e+10</td>\n",
       "      <td>82.250</td>\n",
       "      <td>True</td>\n",
       "    </tr>\n",
       "    <tr>\n",
       "      <th>179</th>\n",
       "      <td>NLD</td>\n",
       "      <td>55450.500417</td>\n",
       "      <td>9.617819e+11</td>\n",
       "      <td>82.283</td>\n",
       "      <td>True</td>\n",
       "    </tr>\n",
       "    <tr>\n",
       "      <th>166</th>\n",
       "      <td>NZL</td>\n",
       "      <td>38345.734047</td>\n",
       "      <td>1.909349e+11</td>\n",
       "      <td>82.288</td>\n",
       "      <td>True</td>\n",
       "    </tr>\n",
       "    <tr>\n",
       "      <th>187</th>\n",
       "      <td>IRL</td>\n",
       "      <td>79572.305429</td>\n",
       "      <td>3.926368e+11</td>\n",
       "      <td>82.305</td>\n",
       "      <td>True</td>\n",
       "    </tr>\n",
       "    <tr>\n",
       "      <th>190</th>\n",
       "      <td>NOR</td>\n",
       "      <td>92123.705266</td>\n",
       "      <td>4.926680e+11</td>\n",
       "      <td>82.404</td>\n",
       "      <td>True</td>\n",
       "    </tr>\n",
       "    <tr>\n",
       "      <th>178</th>\n",
       "      <td>CAN</td>\n",
       "      <td>51956.835125</td>\n",
       "      <td>1.953233e+12</td>\n",
       "      <td>82.434</td>\n",
       "      <td>True</td>\n",
       "    </tr>\n",
       "    <tr>\n",
       "      <th>157</th>\n",
       "      <td>MLT</td>\n",
       "      <td>29149.576353</td>\n",
       "      <td>1.469319e+10</td>\n",
       "      <td>82.530</td>\n",
       "      <td>True</td>\n",
       "    </tr>\n",
       "    <tr>\n",
       "      <th>191</th>\n",
       "      <td>BMU</td>\n",
       "      <td>94274.216381</td>\n",
       "      <td>6.025348e+09</td>\n",
       "      <td>82.593</td>\n",
       "      <td>True</td>\n",
       "    </tr>\n",
       "    <tr>\n",
       "      <th>169</th>\n",
       "      <td>FRA</td>\n",
       "      <td>44192.814620</td>\n",
       "      <td>2.971919e+12</td>\n",
       "      <td>82.659</td>\n",
       "      <td>True</td>\n",
       "    </tr>\n",
       "    <tr>\n",
       "      <th>183</th>\n",
       "      <td>SWE</td>\n",
       "      <td>58112.435281</td>\n",
       "      <td>5.973312e+11</td>\n",
       "      <td>82.797</td>\n",
       "      <td>True</td>\n",
       "    </tr>\n",
       "    <tr>\n",
       "      <th>163</th>\n",
       "      <td>ISR</td>\n",
       "      <td>35286.857184</td>\n",
       "      <td>3.194872e+11</td>\n",
       "      <td>82.972</td>\n",
       "      <td>True</td>\n",
       "    </tr>\n",
       "    <tr>\n",
       "      <th>177</th>\n",
       "      <td>ISL</td>\n",
       "      <td>51852.426495</td>\n",
       "      <td>1.869607e+10</td>\n",
       "      <td>82.993</td>\n",
       "      <td>True</td>\n",
       "    </tr>\n",
       "    <tr>\n",
       "      <th>155</th>\n",
       "      <td>KOR</td>\n",
       "      <td>28675.034407</td>\n",
       "      <td>1.482760e+12</td>\n",
       "      <td>83.033</td>\n",
       "      <td>True</td>\n",
       "    </tr>\n",
       "    <tr>\n",
       "      <th>182</th>\n",
       "      <td>AUS</td>\n",
       "      <td>57183.379348</td>\n",
       "      <td>1.450499e+12</td>\n",
       "      <td>83.436</td>\n",
       "      <td>True</td>\n",
       "    </tr>\n",
       "    <tr>\n",
       "      <th>164</th>\n",
       "      <td>ITA</td>\n",
       "      <td>35998.973500</td>\n",
       "      <td>2.150186e+12</td>\n",
       "      <td>83.512</td>\n",
       "      <td>True</td>\n",
       "    </tr>\n",
       "    <tr>\n",
       "      <th>162</th>\n",
       "      <td>ESP</td>\n",
       "      <td>33352.328963</td>\n",
       "      <td>1.572013e+12</td>\n",
       "      <td>83.565</td>\n",
       "      <td>True</td>\n",
       "    </tr>\n",
       "    <tr>\n",
       "      <th>184</th>\n",
       "      <td>SGP</td>\n",
       "      <td>59374.436391</td>\n",
       "      <td>3.386462e+11</td>\n",
       "      <td>83.620</td>\n",
       "      <td>True</td>\n",
       "    </tr>\n",
       "    <tr>\n",
       "      <th>170</th>\n",
       "      <td>AND</td>\n",
       "      <td>45959.848264</td>\n",
       "      <td>3.545618e+09</td>\n",
       "      <td>83.732</td>\n",
       "      <td>True</td>\n",
       "    </tr>\n",
       "    <tr>\n",
       "      <th>189</th>\n",
       "      <td>CHE</td>\n",
       "      <td>83093.185222</td>\n",
       "      <td>7.125473e+11</td>\n",
       "      <td>83.779</td>\n",
       "      <td>True</td>\n",
       "    </tr>\n",
       "    <tr>\n",
       "      <th>188</th>\n",
       "      <td>CYM</td>\n",
       "      <td>80755.963948</td>\n",
       "      <td>5.244938e+09</td>\n",
       "      <td>83.924</td>\n",
       "      <td>True</td>\n",
       "    </tr>\n",
       "    <tr>\n",
       "      <th>181</th>\n",
       "      <td>MAC</td>\n",
       "      <td>56506.263308</td>\n",
       "      <td>3.618921e+10</td>\n",
       "      <td>84.244</td>\n",
       "      <td>True</td>\n",
       "    </tr>\n",
       "    <tr>\n",
       "      <th>173</th>\n",
       "      <td>JPN</td>\n",
       "      <td>49000.256040</td>\n",
       "      <td>6.187014e+12</td>\n",
       "      <td>84.629</td>\n",
       "      <td>True</td>\n",
       "    </tr>\n",
       "    <tr>\n",
       "      <th>165</th>\n",
       "      <td>HKG</td>\n",
       "      <td>37762.739863</td>\n",
       "      <td>2.835000e+11</td>\n",
       "      <td>84.857</td>\n",
       "      <td>True</td>\n",
       "    </tr>\n",
       "    <tr>\n",
       "      <th>176</th>\n",
       "      <td>SMR</td>\n",
       "      <td>50894.292233</td>\n",
       "      <td>1.723484e+09</td>\n",
       "      <td>84.972</td>\n",
       "      <td>True</td>\n",
       "    </tr>\n",
       "    <tr>\n",
       "      <th>193</th>\n",
       "      <td>MCO</td>\n",
       "      <td>209224.505501</td>\n",
       "      <td>8.152851e+09</td>\n",
       "      <td>86.751</td>\n",
       "      <td>True</td>\n",
       "    </tr>\n",
       "  </tbody>\n",
       "</table>\n",
       "</div>"
      ],
      "text/plain": [
       "    Code  GDP per capita (constant 2010 US$)  GDP (constant 2010 US$)  \\\n",
       "186  DNK                        65867.001720             3.829785e+11   \n",
       "160  CYP                        32517.237276             2.867864e+10   \n",
       "168  GBR                        43592.414518             2.913557e+12   \n",
       "153  SVN                        27421.028712             5.726567e+10   \n",
       "171  DEU                        47469.477084             3.944379e+12   \n",
       "175  AUT                        50536.664146             4.487615e+11   \n",
       "172  BEL                        47611.913704             5.470123e+11   \n",
       "174  FIN                        49310.457064             2.722729e+11   \n",
       "152  PRT                        24679.034094             2.538550e+11   \n",
       "150  GRC                        23503.579804             2.519956e+11   \n",
       "192  LUX                       111043.531695             6.884710e+10   \n",
       "179  NLD                        55450.500417             9.617819e+11   \n",
       "166  NZL                        38345.734047             1.909349e+11   \n",
       "187  IRL                        79572.305429             3.926368e+11   \n",
       "190  NOR                        92123.705266             4.926680e+11   \n",
       "178  CAN                        51956.835125             1.953233e+12   \n",
       "157  MLT                        29149.576353             1.469319e+10   \n",
       "191  BMU                        94274.216381             6.025348e+09   \n",
       "169  FRA                        44192.814620             2.971919e+12   \n",
       "183  SWE                        58112.435281             5.973312e+11   \n",
       "163  ISR                        35286.857184             3.194872e+11   \n",
       "177  ISL                        51852.426495             1.869607e+10   \n",
       "155  KOR                        28675.034407             1.482760e+12   \n",
       "182  AUS                        57183.379348             1.450499e+12   \n",
       "164  ITA                        35998.973500             2.150186e+12   \n",
       "162  ESP                        33352.328963             1.572013e+12   \n",
       "184  SGP                        59374.436391             3.386462e+11   \n",
       "170  AND                        45959.848264             3.545618e+09   \n",
       "189  CHE                        83093.185222             7.125473e+11   \n",
       "188  CYM                        80755.963948             5.244938e+09   \n",
       "181  MAC                        56506.263308             3.618921e+10   \n",
       "173  JPN                        49000.256040             6.187014e+12   \n",
       "165  HKG                        37762.739863             2.835000e+11   \n",
       "176  SMR                        50894.292233             1.723484e+09   \n",
       "193  MCO                       209224.505501             8.152851e+09   \n",
       "\n",
       "     Life expectancy  Std filter (1)  \n",
       "186           80.898            True  \n",
       "160           80.982            True  \n",
       "168           81.321            True  \n",
       "153           81.324            True  \n",
       "171           81.326            True  \n",
       "175           81.544            True  \n",
       "172           81.628            True  \n",
       "174           81.908            True  \n",
       "152           82.049            True  \n",
       "150           82.239            True  \n",
       "192           82.250            True  \n",
       "179           82.283            True  \n",
       "166           82.288            True  \n",
       "187           82.305            True  \n",
       "190           82.404            True  \n",
       "178           82.434            True  \n",
       "157           82.530            True  \n",
       "191           82.593            True  \n",
       "169           82.659            True  \n",
       "183           82.797            True  \n",
       "163           82.972            True  \n",
       "177           82.993            True  \n",
       "155           83.033            True  \n",
       "182           83.436            True  \n",
       "164           83.512            True  \n",
       "162           83.565            True  \n",
       "184           83.620            True  \n",
       "170           83.732            True  \n",
       "189           83.779            True  \n",
       "188           83.924            True  \n",
       "181           84.244            True  \n",
       "173           84.629            True  \n",
       "165           84.857            True  \n",
       "176           84.972            True  \n",
       "193           86.751            True  "
      ]
     },
     "execution_count": 19,
     "metadata": {},
     "output_type": "execute_result"
    }
   ],
   "source": [
    "std_gt_1 = Data[Data['Std filter (1)']]\n",
    "std_gt_1"
   ]
  },
  {
   "cell_type": "code",
   "execution_count": 20,
   "metadata": {},
   "outputs": [
    {
     "name": "stdout",
     "output_type": "stream",
     "text": [
      "Total number of countrys one standard deviation or more from the mean: 35\n"
     ]
    }
   ],
   "source": [
    "print(\"Total number of countrys one standard deviation or more from the mean:\", sum(Data['Std filter (1)']))"
   ]
  },
  {
   "cell_type": "code",
   "execution_count": 21,
   "metadata": {},
   "outputs": [
    {
     "name": "stdout",
     "output_type": "stream",
     "text": [
      "Code                                          AFG\n",
      "GDP per capita (constant 2010 US$)        208.075\n",
      "GDP (constant 2010 US$)               4.59243e+07\n",
      "Life expectancy                            53.283\n",
      "Std filter (1)                              False\n",
      "dtype: object\n",
      "Code                                          ZWE\n",
      "GDP per capita (constant 2010 US$)        63281.6\n",
      "GDP (constant 2010 US$)               8.49658e+13\n",
      "Life expectancy                            80.279\n",
      "Std filter (1)                              False\n",
      "dtype: object\n"
     ]
    }
   ],
   "source": [
    "print(np.min(Data[Data['Std filter (1)'] == False]))\n",
    "print(np.max(Data[Data['Std filter (1)'] == False]))"
   ]
  },
  {
   "cell_type": "code",
   "execution_count": 22,
   "metadata": {},
   "outputs": [
    {
     "data": {
      "image/png": "[encoded data removed]",
      "text/plain": [
       "<Figure size 720x360 with 1 Axes>"
      ]
     },
     "metadata": {
      "needs_background": "light"
     },
     "output_type": "display_data"
    }
   ],
   "source": [
    "plt.gcf().set_size_inches(10, 5)\n",
    "plt.scatter(x1, x3, c=Data['Std filter (1)'], cmap='winter')\n",
    "\n",
    "plt.axhline(y = np.mean(x3), color = 'r', linestyle = 'dashed')\n",
    "\n",
    "plt.axhline(y= np.mean(x3)+np.std(x3), color = 'r')\n",
    "plt.legend((\"mean\", \"One std above the mean\"))\n",
    "\n",
    "plt.title('GDP per capita vs Life expectancy')\n",
    "plt.xlabel('GDP per capita (constant 2010 US$)')\n",
    "plt.ylabel('Life expectancy')\n",
    "\n",
    "plt.show()"
   ]
  },
  {
   "cell_type": "markdown",
   "metadata": {},
   "source": [
    "From the plot above we the green dots corresponds to observations greater than mean + 1 std deviation above the mean.\n",
    "There is a total of 35 countries that fulfills these requirement.\n",
    "\n",
    "Note that all of these countries with high Life expectancy also have relative high GDP per capita also."
   ]
  },
  {
   "cell_type": "markdown",
   "metadata": {},
   "source": [
    "## 1. e)\n",
    "#### Which countries have high life expectancy but have low GDP? [0.5p]"
   ]
  },
  {
   "cell_type": "code",
   "execution_count": 23,
   "metadata": {},
   "outputs": [
    {
     "data": {
      "text/plain": [
       "1      False\n",
       "14     False\n",
       "27     False\n",
       "51     False\n",
       "3      False\n",
       "       ...  \n",
       "181    False\n",
       "173    False\n",
       "165    False\n",
       "176    False\n",
       "193    False\n",
       "Name: GDP (constant 2010 US$), Length: 194, dtype: bool"
      ]
     },
     "execution_count": 23,
     "metadata": {},
     "output_type": "execute_result"
    }
   ],
   "source": [
    "# Let's do the exact same calculations except taking the mean minus 1 std from the GDP\n",
    "zscore(x2) < -1"
   ]
  },
  {
   "cell_type": "code",
   "execution_count": 24,
   "metadata": {},
   "outputs": [
    {
     "name": "stdout",
     "output_type": "stream",
     "text": [
      "Total countries more than 1 (only negative) std away from the mean of GDP: 0\n"
     ]
    }
   ],
   "source": [
    "print(\"Total countries more than 1 (only negative) std away from the mean of GDP:\", np.sum(x2.lt(-1)))"
   ]
  },
  {
   "cell_type": "markdown",
   "metadata": {},
   "source": [
    "Since there isn't any country that fulfills the requirement mean - 1 std we must try another method.\n",
    "\n",
    "Let's try use the first quartile instead, then we know that we have at least some observations."
   ]
  },
  {
   "cell_type": "code",
   "execution_count": 25,
   "metadata": {},
   "outputs": [
    {
     "name": "stdout",
     "output_type": "stream",
     "text": [
      "9915307070.743034\n"
     ]
    }
   ],
   "source": [
    "# calculates the GDP for the first quartile\n",
    "gdp_low = np.percentile(x2, 25)\n",
    "print(gdp_low)"
   ]
  },
  {
   "cell_type": "code",
   "execution_count": 26,
   "metadata": {},
   "outputs": [
    {
     "data": {
      "image/png": "[encoded data removed]",
      "text/plain": [
       "<Figure size 432x288 with 1 Axes>"
      ]
     },
     "metadata": {
      "needs_background": "light"
     },
     "output_type": "display_data"
    }
   ],
   "source": [
    "# Boxplot of first quartile of GDP\n",
    "plt.plot()\n",
    "plt.boxplot(x2)\n",
    "plt.axhline(y=gdp_low, color = 'r', linestyle = 'dashed')\n",
    "plt.show()"
   ]
  },
  {
   "cell_type": "code",
   "execution_count": 27,
   "metadata": {},
   "outputs": [],
   "source": [
    "# Computes filter for low gdp and high life expectancy using quartile for GDP and mean + 1 std for high life expectancy.\n",
    "filter_gdp_low = x2 < gdp_low\n",
    "filter_life_high = zscore(x3) > 1"
   ]
  },
  {
   "cell_type": "code",
   "execution_count": 28,
   "metadata": {},
   "outputs": [],
   "source": [
    "# add columns to the data\n",
    "Data['Low GDP'] = filter_gdp_low\n",
    "Data['High life exp'] = filter_life_high"
   ]
  },
  {
   "cell_type": "code",
   "execution_count": 29,
   "metadata": {},
   "outputs": [
    {
     "data": {
      "text/html": [
       "<div>\n",
       "<style scoped>\n",
       "    .dataframe tbody tr th:only-of-type {\n",
       "        vertical-align: middle;\n",
       "    }\n",
       "\n",
       "    .dataframe tbody tr th {\n",
       "        vertical-align: top;\n",
       "    }\n",
       "\n",
       "    .dataframe thead th {\n",
       "        text-align: right;\n",
       "    }\n",
       "</style>\n",
       "<table border=\"1\" class=\"dataframe\">\n",
       "  <thead>\n",
       "    <tr style=\"text-align: right;\">\n",
       "      <th></th>\n",
       "      <th>Code</th>\n",
       "      <th>GDP per capita (constant 2010 US$)</th>\n",
       "      <th>GDP (constant 2010 US$)</th>\n",
       "      <th>Life expectancy</th>\n",
       "      <th>Std filter (1)</th>\n",
       "      <th>Low GDP</th>\n",
       "      <th>High life exp</th>\n",
       "    </tr>\n",
       "  </thead>\n",
       "  <tbody>\n",
       "    <tr>\n",
       "      <th>1</th>\n",
       "      <td>CAF</td>\n",
       "      <td>384.256968</td>\n",
       "      <td>1.823368e+09</td>\n",
       "      <td>53.283</td>\n",
       "      <td>False</td>\n",
       "      <td>True</td>\n",
       "      <td>False</td>\n",
       "    </tr>\n",
       "    <tr>\n",
       "      <th>14</th>\n",
       "      <td>TCD</td>\n",
       "      <td>813.719589</td>\n",
       "      <td>1.297629e+10</td>\n",
       "      <td>54.239</td>\n",
       "      <td>False</td>\n",
       "      <td>False</td>\n",
       "      <td>False</td>\n",
       "    </tr>\n",
       "    <tr>\n",
       "      <th>27</th>\n",
       "      <td>LSO</td>\n",
       "      <td>1233.039963</td>\n",
       "      <td>2.620539e+09</td>\n",
       "      <td>54.331</td>\n",
       "      <td>False</td>\n",
       "      <td>True</td>\n",
       "      <td>False</td>\n",
       "    </tr>\n",
       "    <tr>\n",
       "      <th>51</th>\n",
       "      <td>NGA</td>\n",
       "      <td>2374.369383</td>\n",
       "      <td>4.771618e+11</td>\n",
       "      <td>54.687</td>\n",
       "      <td>False</td>\n",
       "      <td>False</td>\n",
       "      <td>False</td>\n",
       "    </tr>\n",
       "    <tr>\n",
       "      <th>3</th>\n",
       "      <td>SLE</td>\n",
       "      <td>488.885985</td>\n",
       "      <td>3.819767e+09</td>\n",
       "      <td>54.696</td>\n",
       "      <td>False</td>\n",
       "      <td>True</td>\n",
       "      <td>False</td>\n",
       "    </tr>\n",
       "    <tr>\n",
       "      <th>...</th>\n",
       "      <td>...</td>\n",
       "      <td>...</td>\n",
       "      <td>...</td>\n",
       "      <td>...</td>\n",
       "      <td>...</td>\n",
       "      <td>...</td>\n",
       "      <td>...</td>\n",
       "    </tr>\n",
       "    <tr>\n",
       "      <th>181</th>\n",
       "      <td>MAC</td>\n",
       "      <td>56506.263308</td>\n",
       "      <td>3.618921e+10</td>\n",
       "      <td>84.244</td>\n",
       "      <td>True</td>\n",
       "      <td>False</td>\n",
       "      <td>True</td>\n",
       "    </tr>\n",
       "    <tr>\n",
       "      <th>173</th>\n",
       "      <td>JPN</td>\n",
       "      <td>49000.256040</td>\n",
       "      <td>6.187014e+12</td>\n",
       "      <td>84.629</td>\n",
       "      <td>True</td>\n",
       "      <td>False</td>\n",
       "      <td>True</td>\n",
       "    </tr>\n",
       "    <tr>\n",
       "      <th>165</th>\n",
       "      <td>HKG</td>\n",
       "      <td>37762.739863</td>\n",
       "      <td>2.835000e+11</td>\n",
       "      <td>84.857</td>\n",
       "      <td>True</td>\n",
       "      <td>False</td>\n",
       "      <td>True</td>\n",
       "    </tr>\n",
       "    <tr>\n",
       "      <th>176</th>\n",
       "      <td>SMR</td>\n",
       "      <td>50894.292233</td>\n",
       "      <td>1.723484e+09</td>\n",
       "      <td>84.972</td>\n",
       "      <td>True</td>\n",
       "      <td>True</td>\n",
       "      <td>True</td>\n",
       "    </tr>\n",
       "    <tr>\n",
       "      <th>193</th>\n",
       "      <td>MCO</td>\n",
       "      <td>209224.505501</td>\n",
       "      <td>8.152851e+09</td>\n",
       "      <td>86.751</td>\n",
       "      <td>True</td>\n",
       "      <td>True</td>\n",
       "      <td>True</td>\n",
       "    </tr>\n",
       "  </tbody>\n",
       "</table>\n",
       "<p>194 rows × 7 columns</p>\n",
       "</div>"
      ],
      "text/plain": [
       "    Code  GDP per capita (constant 2010 US$)  GDP (constant 2010 US$)  \\\n",
       "1    CAF                          384.256968             1.823368e+09   \n",
       "14   TCD                          813.719589             1.297629e+10   \n",
       "27   LSO                         1233.039963             2.620539e+09   \n",
       "51   NGA                         2374.369383             4.771618e+11   \n",
       "3    SLE                          488.885985             3.819767e+09   \n",
       "..   ...                                 ...                      ...   \n",
       "181  MAC                        56506.263308             3.618921e+10   \n",
       "173  JPN                        49000.256040             6.187014e+12   \n",
       "165  HKG                        37762.739863             2.835000e+11   \n",
       "176  SMR                        50894.292233             1.723484e+09   \n",
       "193  MCO                       209224.505501             8.152851e+09   \n",
       "\n",
       "     Life expectancy  Std filter (1)  Low GDP  High life exp  \n",
       "1             53.283           False     True          False  \n",
       "14            54.239           False    False          False  \n",
       "27            54.331           False     True          False  \n",
       "51            54.687           False    False          False  \n",
       "3             54.696           False     True          False  \n",
       "..               ...             ...      ...            ...  \n",
       "181           84.244            True    False           True  \n",
       "173           84.629            True    False           True  \n",
       "165           84.857            True    False           True  \n",
       "176           84.972            True     True           True  \n",
       "193           86.751            True     True           True  \n",
       "\n",
       "[194 rows x 7 columns]"
      ]
     },
     "execution_count": 29,
     "metadata": {},
     "output_type": "execute_result"
    }
   ],
   "source": [
    "Data"
   ]
  },
  {
   "cell_type": "code",
   "execution_count": 30,
   "metadata": {},
   "outputs": [],
   "source": [
    "low_gdp = Data[filter_gdp_low] # First we filter out all countrys with low GDP.\n",
    "low_gdp_high_life = low_gdp.loc[filter_life_high] # Then we filter out low GDP and high life expectancy."
   ]
  },
  {
   "cell_type": "code",
   "execution_count": 31,
   "metadata": {},
   "outputs": [
    {
     "data": {
      "text/html": [
       "<div>\n",
       "<style scoped>\n",
       "    .dataframe tbody tr th:only-of-type {\n",
       "        vertical-align: middle;\n",
       "    }\n",
       "\n",
       "    .dataframe tbody tr th {\n",
       "        vertical-align: top;\n",
       "    }\n",
       "\n",
       "    .dataframe thead th {\n",
       "        text-align: right;\n",
       "    }\n",
       "</style>\n",
       "<table border=\"1\" class=\"dataframe\">\n",
       "  <thead>\n",
       "    <tr style=\"text-align: right;\">\n",
       "      <th></th>\n",
       "      <th>Code</th>\n",
       "      <th>GDP per capita (constant 2010 US$)</th>\n",
       "      <th>GDP (constant 2010 US$)</th>\n",
       "      <th>Life expectancy</th>\n",
       "      <th>Std filter (1)</th>\n",
       "      <th>Low GDP</th>\n",
       "      <th>High life exp</th>\n",
       "    </tr>\n",
       "  </thead>\n",
       "  <tbody>\n",
       "    <tr>\n",
       "      <th>191</th>\n",
       "      <td>BMU</td>\n",
       "      <td>94274.216381</td>\n",
       "      <td>6.025348e+09</td>\n",
       "      <td>82.593</td>\n",
       "      <td>True</td>\n",
       "      <td>True</td>\n",
       "      <td>True</td>\n",
       "    </tr>\n",
       "    <tr>\n",
       "      <th>170</th>\n",
       "      <td>AND</td>\n",
       "      <td>45959.848264</td>\n",
       "      <td>3.545618e+09</td>\n",
       "      <td>83.732</td>\n",
       "      <td>True</td>\n",
       "      <td>True</td>\n",
       "      <td>True</td>\n",
       "    </tr>\n",
       "    <tr>\n",
       "      <th>188</th>\n",
       "      <td>CYM</td>\n",
       "      <td>80755.963948</td>\n",
       "      <td>5.244938e+09</td>\n",
       "      <td>83.924</td>\n",
       "      <td>True</td>\n",
       "      <td>True</td>\n",
       "      <td>True</td>\n",
       "    </tr>\n",
       "    <tr>\n",
       "      <th>176</th>\n",
       "      <td>SMR</td>\n",
       "      <td>50894.292233</td>\n",
       "      <td>1.723484e+09</td>\n",
       "      <td>84.972</td>\n",
       "      <td>True</td>\n",
       "      <td>True</td>\n",
       "      <td>True</td>\n",
       "    </tr>\n",
       "    <tr>\n",
       "      <th>193</th>\n",
       "      <td>MCO</td>\n",
       "      <td>209224.505501</td>\n",
       "      <td>8.152851e+09</td>\n",
       "      <td>86.751</td>\n",
       "      <td>True</td>\n",
       "      <td>True</td>\n",
       "      <td>True</td>\n",
       "    </tr>\n",
       "  </tbody>\n",
       "</table>\n",
       "</div>"
      ],
      "text/plain": [
       "    Code  GDP per capita (constant 2010 US$)  GDP (constant 2010 US$)  \\\n",
       "191  BMU                        94274.216381             6.025348e+09   \n",
       "170  AND                        45959.848264             3.545618e+09   \n",
       "188  CYM                        80755.963948             5.244938e+09   \n",
       "176  SMR                        50894.292233             1.723484e+09   \n",
       "193  MCO                       209224.505501             8.152851e+09   \n",
       "\n",
       "     Life expectancy  Std filter (1)  Low GDP  High life exp  \n",
       "191           82.593            True     True           True  \n",
       "170           83.732            True     True           True  \n",
       "188           83.924            True     True           True  \n",
       "176           84.972            True     True           True  \n",
       "193           86.751            True     True           True  "
      ]
     },
     "execution_count": 31,
     "metadata": {},
     "output_type": "execute_result"
    }
   ],
   "source": [
    "low_gdp_high_life # These 5 countrys has low GDP and high life expetancy."
   ]
  },
  {
   "cell_type": "code",
   "execution_count": 32,
   "metadata": {},
   "outputs": [
    {
     "name": "stdout",
     "output_type": "stream",
     "text": [
      "Total number of countrys with low GDP but still high life expectancy: 5\n"
     ]
    }
   ],
   "source": [
    "print(\"Total number of countrys with low GDP but still high life expectancy:\", sum(low_gdp_high_life['Low GDP']))"
   ]
  },
  {
   "cell_type": "markdown",
   "metadata": {},
   "source": [
    "#### These are the five countries with High life expectation but low GDP:\n",
    "BMU = Bermuda\n",
    "\n",
    "AND = Andorra\n",
    "\n",
    "CYM = Cayman islands\n",
    "\n",
    "SMR = San Marino\n",
    "\n",
    "MCO = Monaco\n",
    "\n",
    "Note that all of these countries are very small in numbers of poulation. \n"
   ]
  },
  {
   "cell_type": "markdown",
   "metadata": {},
   "source": [
    "## 1. f)\n",
    "#### Does every strong economy (normally indicated by GDP) have high life expectancy? [1p]"
   ]
  },
  {
   "cell_type": "code",
   "execution_count": 33,
   "metadata": {},
   "outputs": [],
   "source": [
    "filter_low_life_exp =(zscore(x3)) < -1"
   ]
  },
  {
   "cell_type": "code",
   "execution_count": 34,
   "metadata": {},
   "outputs": [],
   "source": [
    "Data['Low life exp'] = filter_low_life_exp"
   ]
  },
  {
   "cell_type": "code",
   "execution_count": 35,
   "metadata": {},
   "outputs": [],
   "source": [
    "high_gdp = Data[filter_std_1_life] # First we filter out all countrys with high GDP.\n",
    "high_gdp_low_life = high_gdp.loc[filter_low_life_exp] # Then we filter out high GDP but low Life expectancy."
   ]
  },
  {
   "cell_type": "code",
   "execution_count": 36,
   "metadata": {},
   "outputs": [
    {
     "data": {
      "text/html": [
       "<div>\n",
       "<style scoped>\n",
       "    .dataframe tbody tr th:only-of-type {\n",
       "        vertical-align: middle;\n",
       "    }\n",
       "\n",
       "    .dataframe tbody tr th {\n",
       "        vertical-align: top;\n",
       "    }\n",
       "\n",
       "    .dataframe thead th {\n",
       "        text-align: right;\n",
       "    }\n",
       "</style>\n",
       "<table border=\"1\" class=\"dataframe\">\n",
       "  <thead>\n",
       "    <tr style=\"text-align: right;\">\n",
       "      <th></th>\n",
       "      <th>Code</th>\n",
       "      <th>GDP per capita (constant 2010 US$)</th>\n",
       "      <th>GDP (constant 2010 US$)</th>\n",
       "      <th>Life expectancy</th>\n",
       "      <th>Std filter (1)</th>\n",
       "      <th>Low GDP</th>\n",
       "      <th>High life exp</th>\n",
       "      <th>Low life exp</th>\n",
       "    </tr>\n",
       "  </thead>\n",
       "  <tbody>\n",
       "  </tbody>\n",
       "</table>\n",
       "</div>"
      ],
      "text/plain": [
       "Empty DataFrame\n",
       "Columns: [Code, GDP per capita (constant 2010 US$), GDP (constant 2010 US$), Life expectancy, Std filter (1), Low GDP, High life exp, Low life exp]\n",
       "Index: []"
      ]
     },
     "execution_count": 36,
     "metadata": {},
     "output_type": "execute_result"
    }
   ],
   "source": [
    "high_gdp_low_life"
   ]
  },
  {
   "cell_type": "markdown",
   "metadata": {},
   "source": [
    "So to answer the question if there is any country with strong economy but low life expectancy the answers seems to be no. In next question I will try to answer this question deeper."
   ]
  },
  {
   "cell_type": "markdown",
   "metadata": {},
   "source": [
    "## 1. g) \n",
    "#### Related to question f, what would happen if you use GDP per capita as an indicator of strong economy? Explain the results you obtained, and discuss any insights you get from comparing the results of g and f. [1p]"
   ]
  },
  {
   "cell_type": "code",
   "execution_count": 37,
   "metadata": {},
   "outputs": [
    {
     "data": {
      "text/plain": [
       "1      False\n",
       "14     False\n",
       "27     False\n",
       "51     False\n",
       "3      False\n",
       "       ...  \n",
       "181    False\n",
       "173    False\n",
       "165    False\n",
       "176    False\n",
       "193    False\n",
       "Name: GDP per capita (constant 2010 US$), Length: 194, dtype: bool"
      ]
     },
     "execution_count": 37,
     "metadata": {},
     "output_type": "execute_result"
    }
   ],
   "source": [
    "zscore(x1) < -1"
   ]
  },
  {
   "cell_type": "code",
   "execution_count": 38,
   "metadata": {},
   "outputs": [
    {
     "name": "stdout",
     "output_type": "stream",
     "text": [
      "Total countries more than 1 (only negative) std away from the mean of GDP per capita: 0\n"
     ]
    }
   ],
   "source": [
    "# same problem as with using GDP ... We get no observations that fullfills these requirement.\n",
    "print(\"Total countries more than 1 (only negative) std away from the mean of GDP per capita:\", np.sum(x1.lt(-1)))"
   ]
  },
  {
   "cell_type": "code",
   "execution_count": 39,
   "metadata": {},
   "outputs": [
    {
     "name": "stdout",
     "output_type": "stream",
     "text": [
      "2175.27458439583\n"
     ]
    }
   ],
   "source": [
    "gdp_low_cap = np.percentile(x1, 25)\n",
    "print(gdp_low_cap)"
   ]
  },
  {
   "cell_type": "code",
   "execution_count": 40,
   "metadata": {},
   "outputs": [
    {
     "data": {
      "image/png": "[encoded data removed]",
      "text/plain": [
       "<Figure size 432x288 with 1 Axes>"
      ]
     },
     "metadata": {
      "needs_background": "light"
     },
     "output_type": "display_data"
    }
   ],
   "source": [
    "plt.plot()\n",
    "plt.boxplot(x1)\n",
    "plt.axhline(y=gdp_low_cap, color = 'r', linestyle = 'dashed')\n",
    "plt.show()"
   ]
  },
  {
   "cell_type": "code",
   "execution_count": 41,
   "metadata": {},
   "outputs": [],
   "source": [
    "filter_gdp_low_cap = x1 < gdp_low_cap"
   ]
  },
  {
   "cell_type": "code",
   "execution_count": 42,
   "metadata": {},
   "outputs": [],
   "source": [
    "Data['Low GDP per capita'] = filter_gdp_low_cap"
   ]
  },
  {
   "cell_type": "code",
   "execution_count": 43,
   "metadata": {},
   "outputs": [
    {
     "data": {
      "text/html": [
       "<div>\n",
       "<style scoped>\n",
       "    .dataframe tbody tr th:only-of-type {\n",
       "        vertical-align: middle;\n",
       "    }\n",
       "\n",
       "    .dataframe tbody tr th {\n",
       "        vertical-align: top;\n",
       "    }\n",
       "\n",
       "    .dataframe thead th {\n",
       "        text-align: right;\n",
       "    }\n",
       "</style>\n",
       "<table border=\"1\" class=\"dataframe\">\n",
       "  <thead>\n",
       "    <tr style=\"text-align: right;\">\n",
       "      <th></th>\n",
       "      <th>Code</th>\n",
       "      <th>GDP per capita (constant 2010 US$)</th>\n",
       "      <th>GDP (constant 2010 US$)</th>\n",
       "      <th>Life expectancy</th>\n",
       "      <th>Std filter (1)</th>\n",
       "      <th>Low GDP</th>\n",
       "      <th>High life exp</th>\n",
       "      <th>Low life exp</th>\n",
       "      <th>Low GDP per capita</th>\n",
       "    </tr>\n",
       "  </thead>\n",
       "  <tbody>\n",
       "    <tr>\n",
       "      <th>1</th>\n",
       "      <td>CAF</td>\n",
       "      <td>384.256968</td>\n",
       "      <td>1.823368e+09</td>\n",
       "      <td>53.283</td>\n",
       "      <td>False</td>\n",
       "      <td>True</td>\n",
       "      <td>False</td>\n",
       "      <td>True</td>\n",
       "      <td>True</td>\n",
       "    </tr>\n",
       "    <tr>\n",
       "      <th>14</th>\n",
       "      <td>TCD</td>\n",
       "      <td>813.719589</td>\n",
       "      <td>1.297629e+10</td>\n",
       "      <td>54.239</td>\n",
       "      <td>False</td>\n",
       "      <td>False</td>\n",
       "      <td>False</td>\n",
       "      <td>True</td>\n",
       "      <td>True</td>\n",
       "    </tr>\n",
       "    <tr>\n",
       "      <th>27</th>\n",
       "      <td>LSO</td>\n",
       "      <td>1233.039963</td>\n",
       "      <td>2.620539e+09</td>\n",
       "      <td>54.331</td>\n",
       "      <td>False</td>\n",
       "      <td>True</td>\n",
       "      <td>False</td>\n",
       "      <td>True</td>\n",
       "      <td>True</td>\n",
       "    </tr>\n",
       "    <tr>\n",
       "      <th>51</th>\n",
       "      <td>NGA</td>\n",
       "      <td>2374.369383</td>\n",
       "      <td>4.771618e+11</td>\n",
       "      <td>54.687</td>\n",
       "      <td>False</td>\n",
       "      <td>False</td>\n",
       "      <td>False</td>\n",
       "      <td>True</td>\n",
       "      <td>False</td>\n",
       "    </tr>\n",
       "    <tr>\n",
       "      <th>3</th>\n",
       "      <td>SLE</td>\n",
       "      <td>488.885985</td>\n",
       "      <td>3.819767e+09</td>\n",
       "      <td>54.696</td>\n",
       "      <td>False</td>\n",
       "      <td>True</td>\n",
       "      <td>False</td>\n",
       "      <td>True</td>\n",
       "      <td>True</td>\n",
       "    </tr>\n",
       "    <tr>\n",
       "      <th>...</th>\n",
       "      <td>...</td>\n",
       "      <td>...</td>\n",
       "      <td>...</td>\n",
       "      <td>...</td>\n",
       "      <td>...</td>\n",
       "      <td>...</td>\n",
       "      <td>...</td>\n",
       "      <td>...</td>\n",
       "      <td>...</td>\n",
       "    </tr>\n",
       "    <tr>\n",
       "      <th>181</th>\n",
       "      <td>MAC</td>\n",
       "      <td>56506.263308</td>\n",
       "      <td>3.618921e+10</td>\n",
       "      <td>84.244</td>\n",
       "      <td>True</td>\n",
       "      <td>False</td>\n",
       "      <td>True</td>\n",
       "      <td>False</td>\n",
       "      <td>False</td>\n",
       "    </tr>\n",
       "    <tr>\n",
       "      <th>173</th>\n",
       "      <td>JPN</td>\n",
       "      <td>49000.256040</td>\n",
       "      <td>6.187014e+12</td>\n",
       "      <td>84.629</td>\n",
       "      <td>True</td>\n",
       "      <td>False</td>\n",
       "      <td>True</td>\n",
       "      <td>False</td>\n",
       "      <td>False</td>\n",
       "    </tr>\n",
       "    <tr>\n",
       "      <th>165</th>\n",
       "      <td>HKG</td>\n",
       "      <td>37762.739863</td>\n",
       "      <td>2.835000e+11</td>\n",
       "      <td>84.857</td>\n",
       "      <td>True</td>\n",
       "      <td>False</td>\n",
       "      <td>True</td>\n",
       "      <td>False</td>\n",
       "      <td>False</td>\n",
       "    </tr>\n",
       "    <tr>\n",
       "      <th>176</th>\n",
       "      <td>SMR</td>\n",
       "      <td>50894.292233</td>\n",
       "      <td>1.723484e+09</td>\n",
       "      <td>84.972</td>\n",
       "      <td>True</td>\n",
       "      <td>True</td>\n",
       "      <td>True</td>\n",
       "      <td>False</td>\n",
       "      <td>False</td>\n",
       "    </tr>\n",
       "    <tr>\n",
       "      <th>193</th>\n",
       "      <td>MCO</td>\n",
       "      <td>209224.505501</td>\n",
       "      <td>8.152851e+09</td>\n",
       "      <td>86.751</td>\n",
       "      <td>True</td>\n",
       "      <td>True</td>\n",
       "      <td>True</td>\n",
       "      <td>False</td>\n",
       "      <td>False</td>\n",
       "    </tr>\n",
       "  </tbody>\n",
       "</table>\n",
       "<p>194 rows × 9 columns</p>\n",
       "</div>"
      ],
      "text/plain": [
       "    Code  GDP per capita (constant 2010 US$)  GDP (constant 2010 US$)  \\\n",
       "1    CAF                          384.256968             1.823368e+09   \n",
       "14   TCD                          813.719589             1.297629e+10   \n",
       "27   LSO                         1233.039963             2.620539e+09   \n",
       "51   NGA                         2374.369383             4.771618e+11   \n",
       "3    SLE                          488.885985             3.819767e+09   \n",
       "..   ...                                 ...                      ...   \n",
       "181  MAC                        56506.263308             3.618921e+10   \n",
       "173  JPN                        49000.256040             6.187014e+12   \n",
       "165  HKG                        37762.739863             2.835000e+11   \n",
       "176  SMR                        50894.292233             1.723484e+09   \n",
       "193  MCO                       209224.505501             8.152851e+09   \n",
       "\n",
       "     Life expectancy  Std filter (1)  Low GDP  High life exp  Low life exp  \\\n",
       "1             53.283           False     True          False          True   \n",
       "14            54.239           False    False          False          True   \n",
       "27            54.331           False     True          False          True   \n",
       "51            54.687           False    False          False          True   \n",
       "3             54.696           False     True          False          True   \n",
       "..               ...             ...      ...            ...           ...   \n",
       "181           84.244            True    False           True         False   \n",
       "173           84.629            True    False           True         False   \n",
       "165           84.857            True    False           True         False   \n",
       "176           84.972            True     True           True         False   \n",
       "193           86.751            True     True           True         False   \n",
       "\n",
       "     Low GDP per capita  \n",
       "1                  True  \n",
       "14                 True  \n",
       "27                 True  \n",
       "51                False  \n",
       "3                  True  \n",
       "..                  ...  \n",
       "181               False  \n",
       "173               False  \n",
       "165               False  \n",
       "176               False  \n",
       "193               False  \n",
       "\n",
       "[194 rows x 9 columns]"
      ]
     },
     "execution_count": 43,
     "metadata": {},
     "output_type": "execute_result"
    }
   ],
   "source": [
    "Data"
   ]
  },
  {
   "cell_type": "code",
   "execution_count": 44,
   "metadata": {},
   "outputs": [],
   "source": [
    "low_gdp_cap = Data[filter_gdp_low_cap] # First we filter out all countrys with low GDP.\n",
    "low_gdp_cap_high_life = low_gdp_cap.loc[filter_life_high] # Then we filter out low GDP and high life expectancy."
   ]
  },
  {
   "cell_type": "code",
   "execution_count": 45,
   "metadata": {},
   "outputs": [
    {
     "data": {
      "text/html": [
       "<div>\n",
       "<style scoped>\n",
       "    .dataframe tbody tr th:only-of-type {\n",
       "        vertical-align: middle;\n",
       "    }\n",
       "\n",
       "    .dataframe tbody tr th {\n",
       "        vertical-align: top;\n",
       "    }\n",
       "\n",
       "    .dataframe thead th {\n",
       "        text-align: right;\n",
       "    }\n",
       "</style>\n",
       "<table border=\"1\" class=\"dataframe\">\n",
       "  <thead>\n",
       "    <tr style=\"text-align: right;\">\n",
       "      <th></th>\n",
       "      <th>Code</th>\n",
       "      <th>GDP per capita (constant 2010 US$)</th>\n",
       "      <th>GDP (constant 2010 US$)</th>\n",
       "      <th>Life expectancy</th>\n",
       "      <th>Std filter (1)</th>\n",
       "      <th>Low GDP</th>\n",
       "      <th>High life exp</th>\n",
       "      <th>Low life exp</th>\n",
       "      <th>Low GDP per capita</th>\n",
       "    </tr>\n",
       "  </thead>\n",
       "  <tbody>\n",
       "  </tbody>\n",
       "</table>\n",
       "</div>"
      ],
      "text/plain": [
       "Empty DataFrame\n",
       "Columns: [Code, GDP per capita (constant 2010 US$), GDP (constant 2010 US$), Life expectancy, Std filter (1), Low GDP, High life exp, Low life exp, Low GDP per capita]\n",
       "Index: []"
      ]
     },
     "execution_count": 45,
     "metadata": {},
     "output_type": "execute_result"
    }
   ],
   "source": [
    "low_gdp_cap_high_life"
   ]
  },
  {
   "cell_type": "markdown",
   "metadata": {},
   "source": [
    "As we can se above there is no observations that has a high life expectation but low GDP per capita.\n",
    "\n",
    "Instead we can choose to change the percentile to 80 just for fun to get some observations:"
   ]
  },
  {
   "cell_type": "code",
   "execution_count": 46,
   "metadata": {},
   "outputs": [],
   "source": [
    "gdp_low_cap_80 = np.percentile(x1, 80)\n",
    "filter_gdp_low_cap_80 = x1 < gdp_low_cap_80\n",
    "Data['Low GDP per capita (80)'] = filter_gdp_low_cap_80"
   ]
  },
  {
   "cell_type": "code",
   "execution_count": 47,
   "metadata": {},
   "outputs": [
    {
     "data": {
      "image/png": "[encoded data removed]",
      "text/plain": [
       "<Figure size 432x288 with 1 Axes>"
      ]
     },
     "metadata": {
      "needs_background": "light"
     },
     "output_type": "display_data"
    }
   ],
   "source": [
    "plt.plot()\n",
    "plt.boxplot(x1)\n",
    "plt.axhline(y=gdp_low_cap_80, color = 'r', linestyle = 'dashed')\n",
    "plt.show()"
   ]
  },
  {
   "cell_type": "code",
   "execution_count": 48,
   "metadata": {},
   "outputs": [
    {
     "data": {
      "text/html": [
       "<div>\n",
       "<style scoped>\n",
       "    .dataframe tbody tr th:only-of-type {\n",
       "        vertical-align: middle;\n",
       "    }\n",
       "\n",
       "    .dataframe tbody tr th {\n",
       "        vertical-align: top;\n",
       "    }\n",
       "\n",
       "    .dataframe thead th {\n",
       "        text-align: right;\n",
       "    }\n",
       "</style>\n",
       "<table border=\"1\" class=\"dataframe\">\n",
       "  <thead>\n",
       "    <tr style=\"text-align: right;\">\n",
       "      <th></th>\n",
       "      <th>Code</th>\n",
       "      <th>GDP per capita (constant 2010 US$)</th>\n",
       "      <th>GDP (constant 2010 US$)</th>\n",
       "      <th>Life expectancy</th>\n",
       "      <th>Std filter (1)</th>\n",
       "      <th>Low GDP</th>\n",
       "      <th>High life exp</th>\n",
       "      <th>Low life exp</th>\n",
       "      <th>Low GDP per capita</th>\n",
       "      <th>Low GDP per capita (80)</th>\n",
       "    </tr>\n",
       "  </thead>\n",
       "  <tbody>\n",
       "    <tr>\n",
       "      <th>153</th>\n",
       "      <td>SVN</td>\n",
       "      <td>27421.028712</td>\n",
       "      <td>5.726567e+10</td>\n",
       "      <td>81.324</td>\n",
       "      <td>True</td>\n",
       "      <td>False</td>\n",
       "      <td>True</td>\n",
       "      <td>False</td>\n",
       "      <td>False</td>\n",
       "      <td>True</td>\n",
       "    </tr>\n",
       "    <tr>\n",
       "      <th>152</th>\n",
       "      <td>PRT</td>\n",
       "      <td>24679.034094</td>\n",
       "      <td>2.538550e+11</td>\n",
       "      <td>82.049</td>\n",
       "      <td>True</td>\n",
       "      <td>False</td>\n",
       "      <td>True</td>\n",
       "      <td>False</td>\n",
       "      <td>False</td>\n",
       "      <td>True</td>\n",
       "    </tr>\n",
       "    <tr>\n",
       "      <th>150</th>\n",
       "      <td>GRC</td>\n",
       "      <td>23503.579804</td>\n",
       "      <td>2.519956e+11</td>\n",
       "      <td>82.239</td>\n",
       "      <td>True</td>\n",
       "      <td>False</td>\n",
       "      <td>True</td>\n",
       "      <td>False</td>\n",
       "      <td>False</td>\n",
       "      <td>True</td>\n",
       "    </tr>\n",
       "  </tbody>\n",
       "</table>\n",
       "</div>"
      ],
      "text/plain": [
       "    Code  GDP per capita (constant 2010 US$)  GDP (constant 2010 US$)  \\\n",
       "153  SVN                        27421.028712             5.726567e+10   \n",
       "152  PRT                        24679.034094             2.538550e+11   \n",
       "150  GRC                        23503.579804             2.519956e+11   \n",
       "\n",
       "     Life expectancy  Std filter (1)  Low GDP  High life exp  Low life exp  \\\n",
       "153           81.324            True    False           True         False   \n",
       "152           82.049            True    False           True         False   \n",
       "150           82.239            True    False           True         False   \n",
       "\n",
       "     Low GDP per capita  Low GDP per capita (80)  \n",
       "153               False                     True  \n",
       "152               False                     True  \n",
       "150               False                     True  "
      ]
     },
     "execution_count": 48,
     "metadata": {},
     "output_type": "execute_result"
    }
   ],
   "source": [
    "low_gdp_cap_80 = Data[filter_gdp_low_cap_80] # First we filter out all countrys with low GDP.\n",
    "low_gdp_cap_high_life_80 = low_gdp_cap_80.loc[filter_life_high] # Then we filter out low GDP and high life expectancy.\n",
    "low_gdp_cap_high_life_80"
   ]
  },
  {
   "cell_type": "markdown",
   "metadata": {},
   "source": [
    "This results in 3 observations. These 3 observations is the ones with high life expectacny but still low GDP per capita.\n",
    "\n",
    "SVN = Slovenia\n",
    "\n",
    "PRT = Portugal\n",
    "\n",
    "GRC = Greece\n"
   ]
  },
  {
   "cell_type": "code",
   "execution_count": 49,
   "metadata": {},
   "outputs": [
    {
     "name": "stdout",
     "output_type": "stream",
     "text": [
      "Spearmans correlation coefficient for Life expectancy vs GDP per capita = 0.8554173451523056\n",
      "Spearmans correlation coefficient for Life expectancy vs GDP = 0.4267065067639362\n"
     ]
    }
   ],
   "source": [
    "print(\"Spearmans correlation coefficient for Life expectancy vs GDP per capita =\", scipy.stats.spearmanr(x1, x3)[0])\n",
    "\n",
    "print(\"Spearmans correlation coefficient for Life expectancy vs GDP =\", scipy.stats.spearmanr(x2, x3)[0])"
   ]
  },
  {
   "cell_type": "markdown",
   "metadata": {},
   "source": [
    "When we use GDP as a measure we only got small countries (population size)\n",
    "\n",
    "\n",
    "Instead when we try to filter out GDP per capita and high Life expectancy at the same time we don't get any observations.\n",
    "\n",
    "This makes sense as there is a 85.55% correlation between GDP per capita and Life expectancy whereas \"only\" 42.67% correlation between Life expectancy vs GDP. This shows that a low GDP per capita dramatically decrease the Life expectancy of the population. But it also shows that only GDP isn't a great measure for measuring a countries wealth with respsect to population.\n",
    "\n",
    "In this case one should probably use GDP per capita as a measure of a countries wealth over GDP.\n",
    "\n",
    "Why?\n",
    "\n",
    "Because GDP per capita takes into account the total population of a country.\n",
    "\n",
    "\n",
    "Below is a plot comparing the two measures."
   ]
  },
  {
   "cell_type": "code",
   "execution_count": 50,
   "metadata": {},
   "outputs": [
    {
     "data": {
      "image/png": "[encoded data removed]",
      "text/plain": [
       "<Figure size 1440x360 with 2 Axes>"
      ]
     },
     "metadata": {
      "needs_background": "light"
     },
     "output_type": "display_data"
    }
   ],
   "source": [
    "fig, (ax1, ax2) = plt.subplots(1,2)\n",
    "\n",
    "ax1.scatter(x1, x3, c=Data['Low GDP'], cmap='winter')\n",
    "ax1.set_title('GDP per capita vs Life expectancy, green = low GDP per capita, blue = high GDP per capita')\n",
    "\n",
    "ax2.scatter(x1, x3, c=Data['Low GDP per capita'], cmap='winter')\n",
    "ax2.set_title('GDP per capita vs Life expectancy, green = low GDP per capita, blue = high GDP per capita')\n",
    "\n",
    "\n",
    "\n",
    "\n",
    "plt.gcf().set_size_inches(20, 5)\n",
    "plt.show()"
   ]
  },
  {
   "cell_type": "markdown",
   "metadata": {},
   "source": [
    "From the scatter plots above it is pretty clear that GDP per capita is a much better measure. In the left scatter we can see that both the outlier in the right upper corner is marked green meaning that it has a low GDP but it is also the country with highest expected life length. In the right scatter were GDP per capita is used instead we can see that this is marked as blue intstead meaning that it is a wealthy (high GDP compared to it's population) country.\n"
   ]
  },
  {
   "cell_type": "code",
   "execution_count": 51,
   "metadata": {},
   "outputs": [
    {
     "data": {
      "image/png": "[encoded data removed]",
      "text/plain": [
       "<Figure size 1440x360 with 2 Axes>"
      ]
     },
     "metadata": {
      "needs_background": "light"
     },
     "output_type": "display_data"
    }
   ],
   "source": [
    "fig, (ax1, ax2) = plt.subplots(1,2)\n",
    "\n",
    "ax1.scatter(x2, x3, c=Data['Low GDP'], cmap='winter')\n",
    "\n",
    "ax2.scatter(x2, x3, c=Data['Low GDP per capita'], cmap='winter')\n",
    "\n",
    "ax1.set_title('GDP vs Life expectancy, green = low GDP per capita, blue = high GDP per capita')\n",
    "ax2.set_title('GDP vs Life expectancy, green = low GDP per capita, blue = high GDP per capita')\n",
    "\n",
    "plt.gcf().set_size_inches(20, 5)\n",
    "plt.show()"
   ]
  },
  {
   "cell_type": "markdown",
   "metadata": {},
   "source": [
    "## 2. a)\n",
    "\n",
    "#### Think of several meaningful questions that can be answered with these data, make several informative visualisations to answer those questions. State any assumptions and motivate decisions that you make when selecting data to be plotted, and in combining data. [2.5p]"
   ]
  },
  {
   "cell_type": "code",
   "execution_count": 52,
   "metadata": {},
   "outputs": [],
   "source": [
    "# Loads 3 different new datasets\n",
    "happiness = pd.read_csv(r'C:\\Users\\kindb\\Downloads\\data_dat405\\happiness-cantril-ladder.csv')\n",
    "\n",
    "child_mortality = pd.read_csv(r'C:\\Users\\kindb\\Downloads\\data_dat405\\child-mortality-igme.csv')\n",
    "\n",
    "mental_substance_disorder = pd.read_csv(r'C:\\Users\\kindb\\Downloads\\data_dat405\\share-with-mental-and-substance-disorders.csv')\n",
    "\n",
    "internet = pd.read_csv(r'C:\\Users\\kindb\\Downloads\\data_dat405\\share-of-individuals-using-the-internet.csv')"
   ]
  },
  {
   "cell_type": "code",
   "execution_count": 53,
   "metadata": {},
   "outputs": [],
   "source": [
    "# Delete the columnn for Entity as Code gives the same information...\n",
    "happiness = happiness.drop(columns = ['Entity'])\n",
    "\n",
    "child_mortality = child_mortality.drop(columns = ['Entity'])\n",
    "\n",
    "mental_substance_disorder = mental_substance_disorder.drop(columns = ['Entity'])"
   ]
  },
  {
   "cell_type": "markdown",
   "metadata": {},
   "source": [
    "#### I choosed to filter out 4 different countries: Sweden,  USA, Greece and Slovenia. "
   ]
  },
  {
   "cell_type": "code",
   "execution_count": 54,
   "metadata": {},
   "outputs": [],
   "source": [
    "# FILTERING OUT SWEDEN\n",
    "\n",
    "happiness_SWE = happiness[(happiness['Code'] == 'SWE') \n",
    "                          & (happiness['Year'] <= 2016)\n",
    "                         & (happiness['Year'] >= 2007)]\n",
    "\n",
    "child_mortality_SWE = child_mortality[(child_mortality['Code'] == 'SWE') & \n",
    "                                      (child_mortality['Year'] >= 2007) & \n",
    "                                      (child_mortality['Year'] <= 2016)]\n",
    "\n",
    "mental_substance_disorder_SWE = mental_substance_disorder[(mental_substance_disorder['Code'] == 'SWE') \n",
    "                                                          & (mental_substance_disorder['Year'] >= 2007)]\n",
    "\n",
    "gdp_data_cap_SWE = gdp_data_cap[(gdp_data_cap['Code'] == 'SWE') \n",
    "                                & (gdp_data_cap['Year'] <= 2016) \n",
    "                               & (gdp_data_cap['Year'] >= 2007)]\n",
    "\n"
   ]
  },
  {
   "cell_type": "code",
   "execution_count": 55,
   "metadata": {},
   "outputs": [],
   "source": [
    "# FILTERING OUT USA\n",
    "\n",
    "happiness_USA = happiness[(happiness['Code'] == 'USA') \n",
    "                          & (happiness['Year'] <= 2016)\n",
    "                         & (happiness['Year'] >= 2007)]\n",
    "\n",
    "child_mortality_USA = child_mortality[(child_mortality['Code'] == 'USA') & \n",
    "                                      (child_mortality['Year'] >= 2007) & \n",
    "                                      (child_mortality['Year'] <= 2016)]\n",
    "\n",
    "mental_substance_disorder_USA = mental_substance_disorder[(mental_substance_disorder['Code'] == 'USA') \n",
    "                                                          & (mental_substance_disorder['Year'] >= 2007)\n",
    "                                                         & (mental_substance_disorder['Year'] <= 2007)]\n",
    "\n",
    "gdp_data_cap_USA = gdp_data_cap[(gdp_data_cap['Code'] == 'USA') \n",
    "                                & (gdp_data_cap['Year'] <= 2016) \n",
    "                               & (gdp_data_cap['Year'] >= 2007)]"
   ]
  },
  {
   "cell_type": "code",
   "execution_count": 56,
   "metadata": {},
   "outputs": [],
   "source": [
    "# FILTERING OUT GREECE\n",
    "\n",
    "happiness_GRC = happiness[(happiness['Code'] == 'GRC') \n",
    "                          & (happiness['Year'] <= 2016)\n",
    "                         & (happiness['Year'] >= 2007)]\n",
    "\n",
    "child_mortality_GRC = child_mortality[(child_mortality['Code'] == 'GRC') & \n",
    "                                      (child_mortality['Year'] >= 2007) & \n",
    "                                      (child_mortality['Year'] <= 2016)]\n",
    "\n",
    "mental_substance_disorder_GRC = mental_substance_disorder[(mental_substance_disorder['Code'] == 'GRC') \n",
    "                                                          & (mental_substance_disorder['Year'] >= 2007)]\n",
    "\n",
    "gdp_data_cap_GRC = gdp_data_cap[(gdp_data_cap['Code'] == 'GRC') \n",
    "                                & (gdp_data_cap['Year'] <= 2016) \n",
    "                               & (gdp_data_cap['Year'] >= 2007)]"
   ]
  },
  {
   "cell_type": "code",
   "execution_count": 57,
   "metadata": {},
   "outputs": [],
   "source": [
    "# FILTERING OUT ZWE\n",
    "\n",
    "happiness_ZWE = happiness[(happiness['Code'] == 'ZWE') \n",
    "                          & (happiness['Year'] <= 2016)\n",
    "                         & (happiness['Year'] >= 2007)]\n",
    "\n",
    "child_mortality_ZWE = child_mortality[(child_mortality['Code'] == 'ZWE') & \n",
    "                                      (child_mortality['Year'] >= 2007) & \n",
    "                                      (child_mortality['Year'] <= 2016)]\n",
    "\n",
    "mental_substance_disorder_ZWE = mental_substance_disorder[(mental_substance_disorder['Code'] == 'ZWE') \n",
    "                                                          & (mental_substance_disorder['Year'] >= 2007)]\n",
    "\n",
    "gdp_data_cap_ZWE = gdp_data_cap[(gdp_data_cap['Code'] == 'ZWE') \n",
    "                                & (gdp_data_cap['Year'] <= 2016) \n",
    "                               & (gdp_data_cap['Year'] >= 2007)]"
   ]
  },
  {
   "cell_type": "code",
   "execution_count": 58,
   "metadata": {},
   "outputs": [],
   "source": [
    "internet_SWE = internet[(internet['Code'] == 'SWE') &\n",
    "                       (internet['Year'] >= 2007) &\n",
    "                       (internet['Year'] <= 2016)]\n",
    "\n",
    "internet_USA = internet[(internet['Code'] == 'USA') &\n",
    "                       (internet['Year'] >= 2007) &\n",
    "                       (internet['Year'] <= 2016)]\n",
    "\n",
    "internet_GRC = internet[(internet['Code'] == 'GRC') &\n",
    "                       (internet['Year'] >= 2007) &\n",
    "                       (internet['Year'] <= 2016)]\n",
    "\n",
    "internet_ZWE = internet[(internet['Code'] == 'ZWE') &\n",
    "                       (internet['Year'] >= 2007) &\n",
    "                       (internet['Year'] <= 2016)]"
   ]
  },
  {
   "cell_type": "code",
   "execution_count": 61,
   "metadata": {
    "scrolled": true
   },
   "outputs": [
    {
     "data": {
      "image/png": "[encoded data removed]",
      "text/plain": [
       "<Figure size 1440x1080 with 4 Axes>"
      ]
     },
     "metadata": {
      "needs_background": "light"
     },
     "output_type": "display_data"
    }
   ],
   "source": [
    "fig, ax = plt.subplots(2, 2, figsize=(20,15))\n",
    "\n",
    "# SWEDEN\n",
    "\n",
    "ax[0][0].plot(child_mortality_SWE['Year'], child_mortality_SWE['Mortality rate, under-5 (per 1,000 live births)'])\n",
    "\n",
    "ax[0][1].plot(mental_substance_disorder_SWE['Year'], \n",
    "           mental_substance_disorder_SWE['Prevalence - Mental and substance use disorders - Sex: Both - Age: Age-standardized (Percent)'])\n",
    "\n",
    "ax[1][0].plot(happiness_SWE['Year'], happiness_SWE['Life satisfaction in Cantril Ladder (World Happiness Report 2021)'])\n",
    "\n",
    "ax[1][1].plot(gdp_data_cap_SWE['Year'], internet_SWE['Individuals using the Internet (% of population)'])\n",
    "\n",
    "# USA \n",
    "\n",
    "ax[0][0].plot(child_mortality_USA['Year'], child_mortality_USA['Mortality rate, under-5 (per 1,000 live births)'])\n",
    "\n",
    "ax[0][1].plot(mental_substance_disorder_USA['Year'], \n",
    "           mental_substance_disorder_USA['Prevalence - Mental and substance use disorders - Sex: Both - Age: Age-standardized (Percent)'])\n",
    "\n",
    "ax[1][0].plot(happiness_USA['Year'], happiness_USA['Life satisfaction in Cantril Ladder (World Happiness Report 2021)'])\n",
    "\n",
    "ax[1][1].plot(gdp_data_cap_USA['Year'], internet_USA['Individuals using the Internet (% of population)'])\n",
    "\n",
    "# GREECE\n",
    "\n",
    "ax[0][0].plot(child_mortality_GRC['Year'], child_mortality_GRC['Mortality rate, under-5 (per 1,000 live births)'])\n",
    "\n",
    "ax[0][1].plot(mental_substance_disorder_GRC['Year'], \n",
    "           mental_substance_disorder_GRC['Prevalence - Mental and substance use disorders - Sex: Both - Age: Age-standardized (Percent)'])\n",
    "\n",
    "ax[1][0].plot(happiness_GRC['Year'], happiness_GRC['Life satisfaction in Cantril Ladder (World Happiness Report 2021)'])\n",
    "\n",
    "ax[1][1].plot(gdp_data_cap_GRC['Year'], internet_GRC['Individuals using the Internet (% of population)'])\n",
    "\n",
    "# Slovenia\n",
    "\n",
    "ax[0][0].plot(child_mortality_ZWE['Year'], child_mortality_ZWE['Mortality rate, under-5 (per 1,000 live births)'])\n",
    "\n",
    "ax[0][1].plot(mental_substance_disorder_ZWE['Year'], \n",
    "           mental_substance_disorder_ZWE['Prevalence - Mental and substance use disorders - Sex: Both - Age: Age-standardized (Percent)'])\n",
    "\n",
    "ax[1][0].plot(happiness_ZWE['Year'], happiness_ZWE['Life satisfaction in Cantril Ladder (World Happiness Report 2021)'])\n",
    "\n",
    "ax[1][1].plot(gdp_data_cap_ZWE['Year'], gdp_data_cap_ZWE['GDP per capita (constant 2010 US$)'])\n",
    "\n",
    "\n",
    "ax[0][0].set_ylabel('Mortality rate, under-5 (per 1,000 live births)', fontsize=14)\n",
    "ax[0][0].set_xlabel('Year', fontsize=14)\n",
    "\n",
    "\n",
    "ax[0][1].set_ylabel('Prevalence - Mental and substance use disorders', fontsize=14)\n",
    "ax[0][1].set_xlabel('Year', fontsize=14)\n",
    "\n",
    "ax[1][0].set_ylabel('Life satisfaction in Cantril Ladder (World Happiness Report 2021)', fontsize=14)\n",
    "ax[1][0].set_xlabel('Year', fontsize=14)\n",
    "\n",
    "\n",
    "ax[1][1].set_ylabel('Number of internet users (OWID based on WB & UN)', fontsize=14)\n",
    "ax[1][1].set_xlabel('Year', fontsize=14)\n",
    "\n",
    "ax[0][0].legend([\"SWE\", \"USA\", \"GRC\", \"ZWE\"])\n",
    "ax[0][1].legend([\"SWE\", \"USA\", \"GRC\", \"ZWE\"])\n",
    "ax[1][0].legend([\"SWE\", \"USA\", \"GRC\", \"ZWE\"])\n",
    "ax[1][1].legend([\"SWE\", \"USA\", \"GRC\", \"ZWE\"])\n",
    "\n",
    "fig.suptitle(\"Comparsion of Sweden, USA, Greece and Slovenia between 2007 and 2016\", fontsize=20)\n",
    "\n",
    "plt.show()"
   ]
  },
  {
   "cell_type": "markdown",
   "metadata": {},
   "source": [
    "## 2. b)\n",
    "\n",
    "#### Discuss any observations that you make, or insights obtained, from the data visualisations. [2p]"
   ]
  },
  {
   "cell_type": "markdown",
   "metadata": {},
   "source": [
    "My inital idea was to compare 4 different countries well being with the rise of the internet. In other words did internet usage increase our well being or does it makes us feel worse. \n",
    "I Choosed to use 3 different sources as a measure of well being: Mortality rate, Mental health and Life satisfaction and then wanted to compare this with the increase of daily internet users.\n",
    "The problem was that for Sweden, USA, and Greece the internet usage has been prety stable between 2007 and 2016 and therefore I couldn't get any useful information...\n",
    "The only thing that one could note is that as the increase of daily users in Slovenia increased the mortality rate decreased. "
   ]
  }
 ],
 "metadata": {
  "kernelspec": {
   "display_name": "Python 3",
   "language": "python",
   "name": "python3"
  },
  "language_info": {
   "codemirror_mode": {
    "name": "ipython",
    "version": 3
   },
   "file_extension": ".py",
   "mimetype": "text/x-python",
   "name": "python",
   "nbconvert_exporter": "python",
   "pygments_lexer": "ipython3",
   "version": "3.8.3"
  }
 },
 "nbformat": 4,
 "nbformat_minor": 4
}
