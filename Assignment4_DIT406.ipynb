{
 "cells": [
  {
   "cell_type": "markdown",
   "metadata": {},
   "source": [
    "# Assignment 4 DIT406\n",
    "\n",
    "#### Carl Kindberg:  12.5 Hours"
   ]
  },
  {
   "cell_type": "markdown",
   "metadata": {},
   "source": [
    "# ---------------------------------------------------------------------------------------------------------------\n",
    "\n",
    "#### 1. Preprocessing:  \n",
    "\n",
    "    a) Note that the email files contain a lot of extra information, besides the actual message. \n",
    "    Ignore that for now and run on the entire text. Further down (in the higher-grade part), \n",
    "    you will be asked to filter out the headers and footers.  \n",
    "    \n",
    "    b) We don’t want to train and test on the same data. Split the spam and the ham datasets \n",
    "    into a training set and a test set. (hamtrain, spamtrain, hamtest, and spamtest). \n",
    "\n",
    "# ---------------------------------------------------------------------------------------------------------------"
   ]
  },
  {
   "cell_type": "code",
   "execution_count": 1,
   "metadata": {},
   "outputs": [],
   "source": [
    "# Loading packages\n",
    "\n",
    "import time\n",
    "import os\n",
    "import numpy as np\n",
    "import pandas as pd\n",
    "import matplotlib.pyplot as plt\n",
    "\n",
    "from sklearn.model_selection import train_test_split\n",
    "from sklearn.feature_extraction.text import CountVectorizer\n",
    "from sklearn.naive_bayes import MultinomialNB\n",
    "from sklearn.naive_bayes import BernoulliNB\n",
    "from sklearn.metrics import confusion_matrix\n",
    "from sklearn.metrics import ConfusionMatrixDisplay\n"
   ]
  },
  {
   "cell_type": "code",
   "execution_count": 2,
   "metadata": {},
   "outputs": [],
   "source": [
    "# Function to load directory... this cell took the most time to write.\n",
    "# I had a few problems with the spam folder... the two other folder worked fine but there was something different\n",
    "# in the spamfolder...\n",
    "# Anyway I finally got it to work except that I had to bruteforce using the setting errors=\"ignore\". I don't know if this \n",
    "# is a valid way to do this? Hope it works anyway!\n",
    "\n",
    "def load_directory(directory, mode):\n",
    "    values = [] # Empty list to store all values in \n",
    "    \n",
    "    \n",
    "    count = 0 # initalize a count of the number of files\n",
    "    \n",
    "    files = os.listdir(os.path.abspath(directory)) # get each file name\n",
    "    #print(files) prints name of each file... just a doublecheck so it works :)\n",
    "    \n",
    "    \n",
    "    \n",
    "    # Loop throgh all files and store \n",
    "    for name in files:\n",
    "        count += 1 # add one for each file\n",
    "        \n",
    "        # saving values\n",
    "        values.append(open(directory + name, mode, errors = \"ignore\"))  # had to use errors = \"ignore\", had a problem reading \n",
    "                                                                        # the spam file ...\n",
    "    \n",
    "    print(\"Length of directory:\", count)\n",
    "    return values\n",
    "\n"
   ]
  },
  {
   "cell_type": "code",
   "execution_count": 3,
   "metadata": {},
   "outputs": [
    {
     "name": "stdout",
     "output_type": "stream",
     "text": [
      "Length of directory: 2551\n",
      "Length of directory: 250\n",
      "Length of directory: 501\n"
     ]
    }
   ],
   "source": [
    "easy_ham = load_directory(directory = \"easy_ham/\", mode = \"r\")\n",
    "hard_ham = load_directory(directory = \"hard_ham/\", mode = \"r\")\n",
    "spam = load_directory(directory = \"spam/\", mode = \"r\")"
   ]
  },
  {
   "cell_type": "code",
   "execution_count": 4,
   "metadata": {},
   "outputs": [],
   "source": [
    "# Didn't know how to read all files in a neat way..\n",
    "# Well this works anyway ;)\n",
    "\n",
    "easy_ham1 = []\n",
    "for i in range(0, len(easy_ham)):\n",
    "    easy_ham1.append(easy_ham[i].read())\n",
    "    \n",
    "hard_ham1 = []\n",
    "for i in range(0, len(hard_ham)):\n",
    "    hard_ham1.append(hard_ham[i].read())\n",
    "    \n",
    "spam1 = []\n",
    "for i in range(0, len(spam)):\n",
    "    spam1.append(spam[i].read())\n",
    "    \n",
    "\n",
    "easy_ham = easy_ham1\n",
    "hard_ham = hard_ham1\n",
    "spam = spam1"
   ]
  },
  {
   "cell_type": "code",
   "execution_count": 5,
   "metadata": {},
   "outputs": [
    {
     "name": "stdout",
     "output_type": "stream",
     "text": [
      "Number of easy ham: 2551\n",
      "Number of hard ham: 250\n",
      "Number of spam: 501\n",
      "Total number of messages: 3302\n",
      "Spam ratio: 0.15172622652937615\n"
     ]
    }
   ],
   "source": [
    "# Print some basic information on the datasets.\n",
    "print(\"Number of easy ham:\", len(easy_ham))\n",
    "print(\"Number of hard ham:\", len(hard_ham))\n",
    "print(\"Number of spam:\", len(spam))\n",
    "print(\"Total number of messages:\", len(easy_ham + hard_ham + spam))\n",
    "print(\"Spam ratio:\", len(spam) / len(easy_ham + hard_ham + spam))"
   ]
  },
  {
   "cell_type": "markdown",
   "metadata": {},
   "source": [
    "# ---------------------------------------------------------------------------------------------------------------\n",
    "\n",
    "#### 1. b) \n",
    "\n",
    "# ---------------------------------------------------------------------------------------------------------------"
   ]
  },
  {
   "cell_type": "code",
   "execution_count": 6,
   "metadata": {},
   "outputs": [
    {
     "data": {
      "text/plain": [
       "list"
      ]
     },
     "execution_count": 6,
     "metadata": {},
     "output_type": "execute_result"
    }
   ],
   "source": [
    "ham = easy_ham + hard_ham # combining easy_ham and hard_ham to a single list\n",
    "type(ham)"
   ]
  },
  {
   "cell_type": "code",
   "execution_count": 15,
   "metadata": {},
   "outputs": [],
   "source": [
    "frac_testsize = 0.20 # 20% test 80% train which is a pretty standard split size.\n",
    "seed = 666 # seed for reproducibility\n",
    "\n",
    "# Split the datasets\n",
    "hamtrain, hamtest = train_test_split(ham, test_size = frac_testsize, random_state = seed)\n",
    "spamtrain, spamtest = train_test_split(spam, test_size = frac_testsize, random_state = seed)"
   ]
  },
  {
   "cell_type": "markdown",
   "metadata": {},
   "source": [
    "# ---------------------------------------------------------------------------------------------------------------\n",
    "\n",
    "#### 2. Write a Python program that:\n",
    "\n",
    "    a. Uses four datasets (hamtrain, spamtrain, hamtest, and spamtest)\n",
    "    \n",
    "    b. Trains a Naïve Bayes classifier (e.g. from Sklearn) on the training sets (hamtrain and \n",
    "    spamtrain), then classifies the test sets (hamtest and spamtest) and reports the \n",
    "    percentage of ham and spam test sets that were classified correctly. You can use\n",
    "    CountVectorizer to transform the email texts into vectors. Please note that there are \n",
    "    different types of Naïve Bayes Classifier in SKlearn (documentation is available here). \n",
    "    Test two of these classifiers: 1. Multinomial Naive Bayes and 2. Bernoulli Naive Bayes\n",
    "    that are well suited for this problem. For the case of Bernoulli Naive Bayes you should \n",
    "    use the parameter binarize to make the features binary. Discuss the differences \n",
    "    between these two classifiers.\n",
    "    \n",
    "# ---------------------------------------------------------------------------------------------------------------"
   ]
  },
  {
   "cell_type": "code",
   "execution_count": null,
   "metadata": {},
   "outputs": [],
   "source": []
  },
  {
   "cell_type": "code",
   "execution_count": 8,
   "metadata": {},
   "outputs": [],
   "source": [
    "# 2. a) and b)\n",
    "# Creates a prediction model with the inputs: ham, spam, frac_testsize, seed, and which model.\n",
    "\n",
    "vectorizer = CountVectorizer()  # Vectorizer function\n",
    "conf_matrix = [] # Empty list\n",
    "acc = [] # Empty list\n",
    "binarize = 0.0 # Set binarize to zero.\n",
    "\n",
    "def pred(ham, spam, frac_testsize, seed, model):\n",
    "    \n",
    "    # Split to train and test data.\n",
    "    hamtrain, hamtest = train_test_split(ham, test_size = frac_testsize, random_state = seed)\n",
    "    spamtrain, spamtest = train_test_split(spam, test_size = frac_testsize, random_state = seed)\n",
    "\n",
    "    # Using the vectorizer function defined above and rename the sets.\n",
    "    train_set = vectorizer.fit_transform(hamtrain + spamtrain) \n",
    "    test_set = vectorizer.transform(hamtest + spamtest)\n",
    "    \n",
    "    # Adds the correct labels to corresponding sets.\n",
    "    Type_train = [0] * len(hamtrain) + [1] * len(spamtrain) \n",
    "    Type_test = [0] * len(hamtest) + [1] * len(spamtest)\n",
    "    \n",
    "    # Training the model \n",
    "    model = model\n",
    "    model.fit(train_set, Type_train)\n",
    "    \n",
    "    # Using the trained model to predict on the test set.\n",
    "    pred_model = model.predict(test_set)\n",
    "    \n",
    "    # Storing results from each run in a list.\n",
    "    acc.append(model.score(test_set, Type_test)) \n",
    "    conf_matrix.append(confusion_matrix(Type_test, pred_model))\n"
   ]
  },
  {
   "cell_type": "code",
   "execution_count": 9,
   "metadata": {},
   "outputs": [
    {
     "data": {
      "image/png": "[encoded data removed]",
      "text/plain": [
       "<Figure size 432x288 with 2 Axes>"
      ]
     },
     "metadata": {
      "needs_background": "light"
     },
     "output_type": "display_data"
    },
    {
     "name": "stdout",
     "output_type": "stream",
     "text": [
      "Average accuracy: 0.9805135951661628\n"
     ]
    },
    {
     "data": {
      "image/png": "[encoded data removed]",
      "text/plain": [
       "<Figure size 432x288 with 2 Axes>"
      ]
     },
     "metadata": {
      "needs_background": "light"
     },
     "output_type": "display_data"
    },
    {
     "name": "stdout",
     "output_type": "stream",
     "text": [
      "Average accuracy: 0.8856948640483366\n",
      "Elapsed time: 409.5516707897186 sec\n"
     ]
    }
   ],
   "source": [
    "# Let's run this program 100 times and average to get a \"stable\" result\n",
    "\n",
    "# MultinomialNB\n",
    "start = time.time()\n",
    "\n",
    "conf_matrix = []\n",
    "acc = []\n",
    "runs = 100\n",
    "for i in range(0, runs): \n",
    "    pred(easy_ham+hard_ham, spam, 0.2, i, model = MultinomialNB())\n",
    "        \n",
    "avg_conf_matrix_MNB = sum(conf_matrix) / len(conf_matrix)\n",
    "avg_acc = sum(acc) / len(acc)\n",
    "\n",
    "CMD = ConfusionMatrixDisplay(confusion_matrix= avg_conf_matrix_MNB)\n",
    "CMD.plot(values_format=\".1f\")\n",
    "\n",
    "plt.title('Confusion matrix (easy+hard), Multinomial Naive Bayes')\n",
    "plt.show()\n",
    "\n",
    "print(\"Average accuracy:\", avg_acc)\n",
    "\n",
    "\n",
    "# BernoulliNB\n",
    "conf_matrix = []\n",
    "acc = []\n",
    "for i in range(0,runs):  \n",
    "    pred(easy_ham+hard_ham, spam, 0.2, i, model =BernoulliNB(binarize = binarize)) \n",
    "    \n",
    "avg_conf_matrix_BNB = sum(conf_matrix) / len(conf_matrix)\n",
    "avg_acc = sum(acc) / len(acc)\n",
    "\n",
    "CMD = ConfusionMatrixDisplay(confusion_matrix= avg_conf_matrix_BNB)\n",
    "CMD.plot(values_format=\".1f\")\n",
    "\n",
    "plt.title('Confusion matrix (easy+hard), Bernoulli Naive Bayes')\n",
    "plt.show()\n",
    "\n",
    "print(\"Average accuracy:\", avg_acc)\n",
    "\n",
    "print(\"Elapsed time:\", (time.time() - start),\"sec\")"
   ]
  },
  {
   "cell_type": "markdown",
   "metadata": {},
   "source": [
    "After we have runned this program 100 times for both Multinomial Naive Bayes (MNB) and Bernoulli Naive bayes (BNB) we can see some differences in the results. \n",
    "In the MNB setting we can see that the average accuracy is approximate 10 percentage points better than the BNB settings.\n",
    "That is because when we use the MNB setting we predict both ham and spam pretty good. But when we use the BNB setting one can see that we we alot of False negatives. To be more exact we get 74.6/662=11.26% false negatives and therefore we get a lower average accuracy for BNB compared to MNB.\n",
    "\n",
    "So we can see that both models have approximate the same results when it comes to True positives and False positives.\n",
    "The differences is the number of False negative and True false."
   ]
  },
  {
   "cell_type": "markdown",
   "metadata": {},
   "source": [
    "# ---------------------------------------------------------------------------------------------------------------\n",
    "\n",
    "#### 3. Run your program on:\n",
    "\n",
    "    i) Spam versus easy-ham\n",
    "    \n",
    "    ii) Spam versus hard-ham\n",
    "    and include the results in your report.\n",
    "\n",
    "# ---------------------------------------------------------------------------------------------------------------"
   ]
  },
  {
   "cell_type": "code",
   "execution_count": 10,
   "metadata": {},
   "outputs": [
    {
     "data": {
      "image/png": "[encoded data removed]",
      "text/plain": [
       "<Figure size 432x288 with 2 Axes>"
      ]
     },
     "metadata": {
      "needs_background": "light"
     },
     "output_type": "display_data"
    },
    {
     "name": "stdout",
     "output_type": "stream",
     "text": [
      "Average accuracy: 0.9724999999999997\n"
     ]
    },
    {
     "data": {
      "image/png": "[encoded data removed]",
      "text/plain": [
       "<Figure size 432x288 with 2 Axes>"
      ]
     },
     "metadata": {
      "needs_background": "light"
     },
     "output_type": "display_data"
    },
    {
     "name": "stdout",
     "output_type": "stream",
     "text": [
      "Average accuracy: 0.9107679738562088\n"
     ]
    }
   ],
   "source": [
    "# Let's run the exact same program again except that we only use eaasy ham here.\n",
    "# MultinomialNB easy_ham\n",
    "conf_matrix = []\n",
    "acc = []\n",
    "runs = 100\n",
    "for i in range(0,runs):  \n",
    "    pred(easy_ham, spam, 0.2, i, model = MultinomialNB())\n",
    "        \n",
    "avg_conf_matrix_MNB = sum(conf_matrix) / len(conf_matrix)\n",
    "avg_acc = sum(acc) / len(acc)\n",
    "\n",
    "CMD = ConfusionMatrixDisplay(confusion_matrix= avg_conf_matrix_MNB)\n",
    "CMD.plot(values_format=\".1f\")\n",
    "\n",
    "plt.title('Confusion matrix (easy), Multinomial Naive Bayes')\n",
    "plt.show()\n",
    "\n",
    "\n",
    "print(\"Average accuracy:\", avg_acc)\n",
    "\n",
    "# BernoulliNB easy_ham\n",
    "conf_matrix = []\n",
    "acc = []\n",
    "for i in range(0,runs): \n",
    "    pred(easy_ham, spam, 0.2, i, model = BernoulliNB(binarize = 0.0))\n",
    "        \n",
    "avg_conf_matrix_MNB = sum(conf_matrix) / len(conf_matrix)\n",
    "avg_acc = sum(acc) / len(acc)\n",
    "\n",
    "CMD = ConfusionMatrixDisplay(confusion_matrix= avg_conf_matrix_MNB)\n",
    "CMD.plot(values_format=\".1f\")\n",
    "\n",
    "plt.title('Confusion matrix (easy), Bernoulli Naive Bayes')\n",
    "plt.show()\n",
    "\n",
    "\n",
    "print(\"Average accuracy:\", avg_acc)"
   ]
  },
  {
   "cell_type": "markdown",
   "metadata": {},
   "source": [
    "When we do the exact same run on just the easyham dataset we get approxiamte the same results as we did in the question before."
   ]
  },
  {
   "cell_type": "code",
   "execution_count": 11,
   "metadata": {},
   "outputs": [
    {
     "data": {
      "image/png": "[encoded data removed]",
      "text/plain": [
       "<Figure size 432x288 with 2 Axes>"
      ]
     },
     "metadata": {
      "needs_background": "light"
     },
     "output_type": "display_data"
    },
    {
     "name": "stdout",
     "output_type": "stream",
     "text": [
      "Average accuracy: 0.9325827814569548\n"
     ]
    },
    {
     "data": {
      "image/png": "[encoded data removed]",
      "text/plain": [
       "<Figure size 432x288 with 2 Axes>"
      ]
     },
     "metadata": {
      "needs_background": "light"
     },
     "output_type": "display_data"
    },
    {
     "name": "stdout",
     "output_type": "stream",
     "text": [
      "Average accuracy: 0.8798675496688751\n"
     ]
    }
   ],
   "source": [
    "# Let's run the exact same program again except that we only use eaasy ham here.\n",
    "# MultinomialNB hard_ham\n",
    "\n",
    "conf_matrix = []\n",
    "acc = []\n",
    "runs = 100\n",
    "for i in range(0, runs):  \n",
    "    pred(hard_ham, spam, 0.2, i, model = MultinomialNB())\n",
    "        \n",
    "avg_conf_matrix_MNB = sum(conf_matrix) / len(conf_matrix)\n",
    "avg_acc = sum(acc) / len(acc)\n",
    "\n",
    "CMD = ConfusionMatrixDisplay(confusion_matrix= avg_conf_matrix_MNB)\n",
    "CMD.plot(values_format=\".1f\")\n",
    "\n",
    "plt.title('Confusion matrix (hard), Multinomial Naive Bayes')\n",
    "plt.show()\n",
    "\n",
    "\n",
    "print(\"Average accuracy:\", avg_acc)\n",
    "\n",
    "# BernoulliNB hard_ham\n",
    "conf_matrix = []\n",
    "acc = []\n",
    "for i in range(0, runs):  \n",
    "    pred(hard_ham, spam, 0.2, i, model = BernoulliNB(binarize = 0.0))\n",
    "        \n",
    "avg_conf_matrix_MNB = sum(conf_matrix) / len(conf_matrix)\n",
    "avg_acc = sum(acc) / len(acc)\n",
    "\n",
    "CMD = ConfusionMatrixDisplay(confusion_matrix= avg_conf_matrix_MNB)\n",
    "CMD.plot(values_format=\".1f\")\n",
    "\n",
    "plt.title('Confusion matrix (hard), Bernoulli Naive Bayes')\n",
    "plt.show()\n",
    "\n",
    "\n",
    "print(\"Average accuracy:\", avg_acc)"
   ]
  },
  {
   "cell_type": "markdown",
   "metadata": {},
   "source": [
    "Here something interesting happens, when we try to predict the hardham dataset we get a few differences between the two models.\n",
    "In the previous runs we did for easyham and the combined dataset easyham+hardham we always got alot more False negatives. \n",
    "\n",
    "In this case we actullay got fewer False negatives using BNB than the MNB setting (1 vs 2...). Still the MNB setting get a higher average accuracy but the difference between the two models is the predicted True positives and False postives instead of the True negative and the False negatives.\n",
    "\n",
    "Depending how we want to use this filtering the BNB setting might actually be better when we predict on the hardham dataset."
   ]
  }
 ],
 "metadata": {
  "kernelspec": {
   "display_name": "Python 3",
   "language": "python",
   "name": "python3"
  },
  "language_info": {
   "codemirror_mode": {
    "name": "ipython",
    "version": 3
   },
   "file_extension": ".py",
   "mimetype": "text/x-python",
   "name": "python",
   "nbconvert_exporter": "python",
   "pygments_lexer": "ipython3",
   "version": "3.8.3"
  }
 },
 "nbformat": 4,
 "nbformat_minor": 4
}
